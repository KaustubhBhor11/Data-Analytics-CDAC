{
 "cells": [
  {
   "cell_type": "code",
   "execution_count": 1,
   "id": "fb6e5be8",
   "metadata": {},
   "outputs": [],
   "source": [
    "import pandas as pd\n",
    "import numpy as np\n",
    "import matplotlib.pyplot as plt\n",
    "import seaborn as sns"
   ]
  },
  {
   "cell_type": "code",
   "execution_count": null,
   "id": "d7008a19",
   "metadata": {},
   "outputs": [
    {
     "name": "stdout",
     "output_type": "stream",
     "text": [
      "count    332.000000\n",
      "mean      30.272590\n",
      "std       14.181209\n",
      "min        0.170000\n",
      "25%       21.000000\n",
      "50%       27.000000\n",
      "75%       39.000000\n",
      "max       76.000000\n",
      "Name: Age, dtype: float64\n",
      "number of null values in the age column 86\n"
     ]
    }
   ],
   "source": [
    "df=pd.read_csv('titanic-tested.csv')\n",
    "print(df['Age'].describe())\n",
    "\n",
    "#count the number of null values in the age column\n",
    "null_count=df['Age'].isnull().sum()\n",
    "print(\"number of null values in the age column\", null_count)\n"
   ]
  },
  {
   "cell_type": "code",
   "execution_count": null,
   "id": "d90f4522",
   "metadata": {},
   "outputs": [
    {
     "name": "stdout",
     "output_type": "stream",
     "text": [
      "<class 'pandas.core.frame.DataFrame'>\n",
      "Int64Index: 418 entries, 0 to 417\n",
      "Data columns (total 12 columns):\n",
      " #   Column       Non-Null Count  Dtype  \n",
      "---  ------       --------------  -----  \n",
      " 0   PassengerId  418 non-null    int64  \n",
      " 1   Survived     418 non-null    int64  \n",
      " 2   Pclass       418 non-null    int64  \n",
      " 3   Name         418 non-null    object \n",
      " 4   Gender       418 non-null    object \n",
      " 5   Age          418 non-null    float64\n",
      " 6   SibSp        418 non-null    int64  \n",
      " 7   Parch        418 non-null    int64  \n",
      " 8   Ticket       418 non-null    object \n",
      " 9   Fare         417 non-null    float64\n",
      " 10  Cabin        91 non-null     object \n",
      " 11  Embarked     418 non-null    object \n",
      "dtypes: float64(2), int64(5), object(5)\n",
      "memory usage: 42.5+ KB\n",
      "None\n"
     ]
    }
   ],
   "source": [
    "# 1 handle missing values in the age column\n",
    "# replace missing values with median age\n",
    "df['Age']=df['Age'].fillna(df['Age'].median()) \n",
    "\n",
    "# 2. remove outliees in the age column (assuming age > 100 are outlies)\n",
    "df=df[df['Age']<=100]\n",
    "\n",
    "# 3. Ensure the age column has consistant datatypes\n",
    "df['Age'] = df['Age'].astype(float)\n",
    "\n",
    "#display cleaned info\n",
    "print(df.info())\n",
    "df.Age.describe()\n",
    "\n",
    "# save cleaned data to csv\n",
    "df.to_csv('titanic cleaned.csv',index=False)"
   ]
  }
 ],
 "metadata": {
  "kernelspec": {
   "display_name": "base",
   "language": "python",
   "name": "python3"
  },
  "language_info": {
   "codemirror_mode": {
    "name": "ipython",
    "version": 3
   },
   "file_extension": ".py",
   "mimetype": "text/x-python",
   "name": "python",
   "nbconvert_exporter": "python",
   "pygments_lexer": "ipython3",
   "version": "3.8.5"
  }
 },
 "nbformat": 4,
 "nbformat_minor": 5
}
