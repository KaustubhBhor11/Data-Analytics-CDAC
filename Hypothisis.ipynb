{
 "cells": [
  {
   "cell_type": "code",
   "execution_count": 3,
   "id": "39a4dcfd",
   "metadata": {},
   "outputs": [],
   "source": [
    "import pandas as pd\n",
    "from scipy import stats"
   ]
  },
  {
   "cell_type": "code",
   "execution_count": 5,
   "id": "66b11d4d",
   "metadata": {},
   "outputs": [],
   "source": [
    "data = pd.read_csv(r'.\\Datasets\\Mall_Customers.csv')"
   ]
  },
  {
   "cell_type": "code",
   "execution_count": 6,
   "id": "ddca212a",
   "metadata": {},
   "outputs": [
    {
     "name": "stdout",
     "output_type": "stream",
     "text": [
      "T statistic : -2.0833455578976574\n",
      " P-value  0.04614289301781219\n",
      "Degree of freedom  29\n",
      "The null valuew hypotis mean age = 40 cannot be  rejected\n",
      " Critical value 2.045229642132703\n",
      "The null valuew hypotis mean age = 40 is rejected\n"
     ]
    }
   ],
   "source": [
    "age_data=data['Age']\n",
    "age_data=age_data.sample(n=30,replace=True)\n",
    "\n",
    "# hypthesized poplulation average ags\n",
    "pop_avg_age=40\n",
    "\n",
    "# perform one sample t-test\n",
    "t_statistic,p_value = stats.ttest_1samp(age_data,pop_avg_age)\n",
    "degrees_of_freedom = len(age_data)-1\n",
    "\n",
    "print('T statistic :',t_statistic)\n",
    "print(\" P-value \",p_value)\n",
    "print('Degree of freedom ',degrees_of_freedom)\n",
    "\n",
    "# interpretation\n",
    "alpha=0.025\n",
    "if p_value < alpha:\n",
    "    print(\"The null valuew hypotis mean age = 40 is rejected\")\n",
    "else:\n",
    "    print(\"The null valuew hypotis mean age = 40 cannot be  rejected\")\n",
    "\n",
    "critical_value = stats.t.ppf(1-alpha,degrees_of_freedom)\n",
    "print(\" Critical value\" , critical_value)\n",
    "if (abs(t_statistic)< critical_value):\n",
    "    print(\"The null valuew hypotis mean age = 40 cannot be  rejected\")\n",
    "else:\n",
    "    print(\"The null valuew hypotis mean age = 40 is rejected\")\n"
   ]
  }
 ],
 "metadata": {
  "kernelspec": {
   "display_name": "base",
   "language": "python",
   "name": "python3"
  },
  "language_info": {
   "codemirror_mode": {
    "name": "ipython",
    "version": 3
   },
   "file_extension": ".py",
   "mimetype": "text/x-python",
   "name": "python",
   "nbconvert_exporter": "python",
   "pygments_lexer": "ipython3",
   "version": "3.8.5"
  }
 },
 "nbformat": 4,
 "nbformat_minor": 5
}
