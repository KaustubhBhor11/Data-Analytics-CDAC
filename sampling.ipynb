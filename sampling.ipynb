{
 "cells": [
  {
   "cell_type": "code",
   "execution_count": 37,
   "id": "50fc8b6d",
   "metadata": {},
   "outputs": [],
   "source": [
    "import pandas as pd\n",
    "import numpy as np"
   ]
  },
  {
   "cell_type": "code",
   "execution_count": 38,
   "id": "1f39e2cb",
   "metadata": {},
   "outputs": [
    {
     "name": "stdout",
     "output_type": "stream",
     "text": [
      "79638\n"
     ]
    },
    {
     "data": {
      "text/html": [
       "<div>\n",
       "<style scoped>\n",
       "    .dataframe tbody tr th:only-of-type {\n",
       "        vertical-align: middle;\n",
       "    }\n",
       "\n",
       "    .dataframe tbody tr th {\n",
       "        vertical-align: top;\n",
       "    }\n",
       "\n",
       "    .dataframe thead th {\n",
       "        text-align: right;\n",
       "    }\n",
       "</style>\n",
       "<table border=\"1\" class=\"dataframe\">\n",
       "  <thead>\n",
       "    <tr style=\"text-align: right;\">\n",
       "      <th></th>\n",
       "      <th>Unnamed: 0</th>\n",
       "      <th>Bib</th>\n",
       "      <th>Name</th>\n",
       "      <th>Age</th>\n",
       "      <th>M/F</th>\n",
       "      <th>City</th>\n",
       "      <th>State</th>\n",
       "      <th>Country</th>\n",
       "      <th>Citizen</th>\n",
       "      <th>Unnamed: 9</th>\n",
       "      <th>...</th>\n",
       "      <th>30K</th>\n",
       "      <th>35K</th>\n",
       "      <th>40K</th>\n",
       "      <th>Pace</th>\n",
       "      <th>Proj Time</th>\n",
       "      <th>Official Time</th>\n",
       "      <th>Overall</th>\n",
       "      <th>Gender</th>\n",
       "      <th>Division</th>\n",
       "      <th>Unnamed: 8</th>\n",
       "    </tr>\n",
       "  </thead>\n",
       "  <tbody>\n",
       "    <tr>\n",
       "      <th>0</th>\n",
       "      <td>0.0</td>\n",
       "      <td>3</td>\n",
       "      <td>Desisa, Lelisa</td>\n",
       "      <td>25</td>\n",
       "      <td>M</td>\n",
       "      <td>Ambo</td>\n",
       "      <td>NaN</td>\n",
       "      <td>ETH</td>\n",
       "      <td>NaN</td>\n",
       "      <td>NaN</td>\n",
       "      <td>...</td>\n",
       "      <td>1:32:00</td>\n",
       "      <td>1:47:59</td>\n",
       "      <td>2:02:39</td>\n",
       "      <td>0:04:56</td>\n",
       "      <td>-</td>\n",
       "      <td>2:09:17</td>\n",
       "      <td>1</td>\n",
       "      <td>1</td>\n",
       "      <td>1</td>\n",
       "      <td>NaN</td>\n",
       "    </tr>\n",
       "    <tr>\n",
       "      <th>1</th>\n",
       "      <td>1.0</td>\n",
       "      <td>4</td>\n",
       "      <td>Tsegay, Yemane Adhane</td>\n",
       "      <td>30</td>\n",
       "      <td>M</td>\n",
       "      <td>Addis Ababa</td>\n",
       "      <td>NaN</td>\n",
       "      <td>ETH</td>\n",
       "      <td>NaN</td>\n",
       "      <td>NaN</td>\n",
       "      <td>...</td>\n",
       "      <td>1:31:59</td>\n",
       "      <td>1:47:59</td>\n",
       "      <td>2:02:42</td>\n",
       "      <td>0:04:58</td>\n",
       "      <td>-</td>\n",
       "      <td>2:09:48</td>\n",
       "      <td>2</td>\n",
       "      <td>2</td>\n",
       "      <td>2</td>\n",
       "      <td>NaN</td>\n",
       "    </tr>\n",
       "    <tr>\n",
       "      <th>2</th>\n",
       "      <td>2.0</td>\n",
       "      <td>8</td>\n",
       "      <td>Chebet, Wilson</td>\n",
       "      <td>29</td>\n",
       "      <td>M</td>\n",
       "      <td>Marakwet</td>\n",
       "      <td>NaN</td>\n",
       "      <td>KEN</td>\n",
       "      <td>NaN</td>\n",
       "      <td>NaN</td>\n",
       "      <td>...</td>\n",
       "      <td>1:32:00</td>\n",
       "      <td>1:47:59</td>\n",
       "      <td>2:03:01</td>\n",
       "      <td>0:04:59</td>\n",
       "      <td>-</td>\n",
       "      <td>2:10:22</td>\n",
       "      <td>3</td>\n",
       "      <td>3</td>\n",
       "      <td>3</td>\n",
       "      <td>NaN</td>\n",
       "    </tr>\n",
       "    <tr>\n",
       "      <th>3</th>\n",
       "      <td>3.0</td>\n",
       "      <td>11</td>\n",
       "      <td>Kipyego, Bernard</td>\n",
       "      <td>28</td>\n",
       "      <td>M</td>\n",
       "      <td>Eldoret</td>\n",
       "      <td>NaN</td>\n",
       "      <td>KEN</td>\n",
       "      <td>NaN</td>\n",
       "      <td>NaN</td>\n",
       "      <td>...</td>\n",
       "      <td>1:32:00</td>\n",
       "      <td>1:48:03</td>\n",
       "      <td>2:03:47</td>\n",
       "      <td>0:05:00</td>\n",
       "      <td>-</td>\n",
       "      <td>2:10:47</td>\n",
       "      <td>4</td>\n",
       "      <td>4</td>\n",
       "      <td>4</td>\n",
       "      <td>NaN</td>\n",
       "    </tr>\n",
       "    <tr>\n",
       "      <th>4</th>\n",
       "      <td>4.0</td>\n",
       "      <td>10</td>\n",
       "      <td>Korir, Wesley</td>\n",
       "      <td>32</td>\n",
       "      <td>M</td>\n",
       "      <td>Kitale</td>\n",
       "      <td>NaN</td>\n",
       "      <td>KEN</td>\n",
       "      <td>NaN</td>\n",
       "      <td>NaN</td>\n",
       "      <td>...</td>\n",
       "      <td>1:32:00</td>\n",
       "      <td>1:47:59</td>\n",
       "      <td>2:03:27</td>\n",
       "      <td>0:05:00</td>\n",
       "      <td>-</td>\n",
       "      <td>2:10:49</td>\n",
       "      <td>5</td>\n",
       "      <td>5</td>\n",
       "      <td>5</td>\n",
       "      <td>NaN</td>\n",
       "    </tr>\n",
       "  </tbody>\n",
       "</table>\n",
       "<p>5 rows × 26 columns</p>\n",
       "</div>"
      ],
      "text/plain": [
       "   Unnamed: 0 Bib                   Name  Age M/F         City State Country  \\\n",
       "0         0.0   3         Desisa, Lelisa   25   M         Ambo   NaN     ETH   \n",
       "1         1.0   4  Tsegay, Yemane Adhane   30   M  Addis Ababa   NaN     ETH   \n",
       "2         2.0   8         Chebet, Wilson   29   M     Marakwet   NaN     KEN   \n",
       "3         3.0  11       Kipyego, Bernard   28   M      Eldoret   NaN     KEN   \n",
       "4         4.0  10          Korir, Wesley   32   M       Kitale   NaN     KEN   \n",
       "\n",
       "  Citizen Unnamed: 9  ...      30K      35K      40K     Pace Proj Time  \\\n",
       "0     NaN        NaN  ...  1:32:00  1:47:59  2:02:39  0:04:56         -   \n",
       "1     NaN        NaN  ...  1:31:59  1:47:59  2:02:42  0:04:58         -   \n",
       "2     NaN        NaN  ...  1:32:00  1:47:59  2:03:01  0:04:59         -   \n",
       "3     NaN        NaN  ...  1:32:00  1:48:03  2:03:47  0:05:00         -   \n",
       "4     NaN        NaN  ...  1:32:00  1:47:59  2:03:27  0:05:00         -   \n",
       "\n",
       "  Official Time Overall Gender Division Unnamed: 8  \n",
       "0       2:09:17       1      1        1        NaN  \n",
       "1       2:09:48       2      2        2        NaN  \n",
       "2       2:10:22       3      3        3        NaN  \n",
       "3       2:10:47       4      4        4        NaN  \n",
       "4       2:10:49       5      5        5        NaN  \n",
       "\n",
       "[5 rows x 26 columns]"
      ]
     },
     "execution_count": 38,
     "metadata": {},
     "output_type": "execute_result"
    }
   ],
   "source": [
    "df_2015=pd.read_csv(r'./Datasets/marathon_results_2015.csv')\n",
    "df_2016=pd.read_csv(r'./Datasets/marathon_results_2016.csv')\n",
    "df_2017=pd.read_csv(r'./Datasets/marathon_results_2017.csv')\n",
    "\n",
    "df=pd.concat([df_2015,df_2016,df_2017])\n",
    "original_row_count = len(df)\n",
    "print(original_row_count)\n",
    "df.head()"
   ]
  },
  {
   "cell_type": "code",
   "execution_count": 39,
   "id": "f0d4c562",
   "metadata": {},
   "outputs": [],
   "source": [
    "df[['Hours','Minutes','Seconds']]=df['Official Time'].str.split(\":\",expand=True)\n",
    "df.head()\n",
    "# convert hours, minutes and sectonds colums to integers\n",
    "df['Hours']=df['Hours'].astype(int)\n",
    "df['Minutes']=df['Minutes'].astype(int)\n",
    "df['Seconds']=df['Seconds'].astype(int)\n",
    "\n",
    "# Manually calculte total time in seconds\n",
    "df['finish_time_in_seconds']=df['Hours'] * 3600 +df['Minutes'] * 60 +df['Seconds']"
   ]
  },
  {
   "cell_type": "code",
   "execution_count": 40,
   "id": "662db73e",
   "metadata": {},
   "outputs": [],
   "source": [
    "df[['Pace_Hours','Pace_Minutes','Pace_Seconds']]=df['Pace'].str.split(\":\",expand=True)\n",
    "df.head()\n",
    "# convert hours, minutes and sectonds colums to integers\n",
    "df['Pace_Hours']=df['Pace_Hours'].astype(int)\n",
    "df['Pace_Minutes']=df['Pace_Minutes'].astype(int)\n",
    "df['Pace_Seconds']=df['Pace_Seconds'].astype(int)\n"
   ]
  },
  {
   "cell_type": "code",
   "execution_count": 41,
   "id": "00ac1d0c",
   "metadata": {},
   "outputs": [],
   "source": [
    "# perform simple random sampling (select)\n",
    "\n",
    "# picks sample of 7964\n",
    "sample_df=df.sample(frac=0.1,random_state=42)"
   ]
  },
  {
   "cell_type": "code",
   "execution_count": 42,
   "id": "9db763c2",
   "metadata": {},
   "outputs": [],
   "source": [
    "# Perforn systematic probality sampling (pick every 7 th record)\n",
    "\n",
    "#::7 means from start to end pick every 7th record\n",
    "# , : means pick up all the elements\n",
    "# picks 11377 samples\n",
    "sample_df=df.loc[::7,:]\n"
   ]
  },
  {
   "cell_type": "code",
   "execution_count": 43,
   "id": "bcf6896f",
   "metadata": {},
   "outputs": [
    {
     "name": "stdout",
     "output_type": "stream",
     "text": [
      "Number of rows in the original df : 79638\n",
      "Number of rows in the sample df : 11377\n"
     ]
    }
   ],
   "source": [
    "sample_row_count= len(sample_df)\n",
    "print(f\"Number of rows in the original df : {original_row_count}\")\n",
    "print(f\"Number of rows in the sample df : {sample_row_count}\")"
   ]
  },
  {
   "cell_type": "code",
   "execution_count": null,
   "id": "a55fad6c",
   "metadata": {},
   "outputs": [],
   "source": [
    "# Stratified Probality sampling\n",
    "\n",
    "# Find total number of male and female\n",
    "total_males=len(df[df['M/F']== 'M'])\n",
    "total_females=len(df[df['M/F']== 'F'])"
   ]
  },
  {
   "cell_type": "code",
   "execution_count": 20,
   "id": "b637df4d",
   "metadata": {},
   "outputs": [],
   "source": [
    "#calculate proportionate sample of male and female athletes\n",
    "sample_size=int(0.1 * original_row_count)\n",
    "sample_males=int(0.1 * total_males)\n",
    "sample_females=int(0.1 * total_females)\n",
    "\n",
    "# Generate propprtione samples of male and female ethletes\n",
    "male_sample=df[df['M/F'] == 'M'].sample(n=sample_males,random_state=42)\n",
    "female_sample=df[df['M/F'] == 'F'].sample(n=sample_females,random_state=42)\n",
    "\n",
    "#combine the males and female samples into a single sample df\n",
    "sample_df=pd.concat([male_sample,female_sample])\n",
    "\n",
    "# get the total number of rows in the sampled df\n",
    "sample_row_count = len(sample_df)"
   ]
  },
  {
   "cell_type": "code",
   "execution_count": null,
   "id": "73ed1340",
   "metadata": {},
   "outputs": [],
   "source": [
    "# Clustering Sampling\n",
    "# picks 5331 samples\n",
    "\n",
    "# Find Unique countries the althetes are from \n",
    "unique_couttries = df['Country'].unique()\n",
    "num_countries=len(unique_couttries)\n",
    "\n",
    "# Randomly select half of the countries\n",
    "np.random.seed(42)\n",
    "\n",
    "# choice() function in np selects ramdom samples from an array\n",
    "selected_countries=np.random.choice(unique_couttries,size=int(num_countries//2),replace=False) # REPLACE false means do not allow the same country twice or more\n",
    "\n",
    "# create a new dataframe containing all records of the selected countries\n",
    "sample_df= df[df['Country'].isin(selected_countries)]\n",
    "\n",
    "# get the total number of rows in the sampled df\n",
    "sample_row_count=len(sample_df)\n"
   ]
  },
  {
   "cell_type": "code",
   "execution_count": 27,
   "id": "87c70a89",
   "metadata": {},
   "outputs": [
    {
     "name": "stdout",
     "output_type": "stream",
     "text": [
      "Number of rows in the original df : 79638\n",
      "Number of rows in the sample df : 5331\n"
     ]
    }
   ],
   "source": [
    "sample_row_count= len(sample_df)\n",
    "print(f\"Number of rows in the original df : {original_row_count}\")\n",
    "print(f\"Number of rows in the sample df : {sample_row_count}\")"
   ]
  },
  {
   "cell_type": "code",
   "execution_count": 29,
   "id": "676bbe75",
   "metadata": {},
   "outputs": [
    {
     "name": "stdout",
     "output_type": "stream",
     "text": [
      "Number of unique countries in the sampled df: 52\n",
      "\n",
      "Slected Countries: ['COL' 'JAM' 'EST' 'IND' 'PAN' 'SMR' 'NGR' 'LUX' 'NZL' 'ETH' 'SWE' 'SUI'\n",
      " 'BDI' 'ALG' 'UGA' 'RSA' 'TWN' 'AUT' 'AUS' 'CHI' 'GRN' 'ARG' 'DEN' 'PHI'\n",
      " 'SIN' 'BAH' 'ECU' 'TPE' 'KOR' 'BEL' 'ALB' 'BLR' 'MGL' 'QAT' 'FIN' 'ZIM'\n",
      " 'ITA' 'URU' 'ESA' 'NOR' 'FRA' 'GER' 'UAE' 'NED' 'JPN' 'PER' 'TUR' 'LAT'\n",
      " 'GUA' 'BRA' 'JOR' 'ISL']\n"
     ]
    }
   ],
   "source": [
    "# print the number of unique countries in the smapled df\n",
    "print(f\"Number of unique countries in the sampled df: {len(sample_df['Country'].unique())}\")\n",
    "print(f\"\\nSlected Countries: {selected_countries}\")"
   ]
  },
  {
   "cell_type": "code",
   "execution_count": null,
   "id": "6494d726",
   "metadata": {},
   "outputs": [
    {
     "name": "stdout",
     "output_type": "stream",
     "text": [
      "0.06981591702453603\n"
     ]
    }
   ],
   "source": [
    "# for the marathon dataset find the conditional probality of finish within hours given thet pace < 8 miniutes per mile\n",
    "# use the same code as before to find finished time in seconds and pace in seconds\n",
    "# define the conditions\n",
    "\n",
    "condition_A=df['finish_time_in_seconds'] <=3 * 60* 60 # finish within 3 hours\n",
    "condition_B = df['Pace_Seconds'] < 8 * 60 # pace less than 8 min per km\n",
    "\n",
    "# calculate probabilities\n",
    "P_B = len(df[condition_B]) / len(df)\n",
    "P_A_and_B = len(df[condition_A & condition_B]) / len(df)\n",
    "\n",
    "# conditional probability P(A | B)\n",
    "# P(A,B) = P(A) x P(B|A)\n",
    "P_A_given_B = P_A_and_B / P_B \n",
    "print(f\"{P_A_given_B}\")\n",
    "#  Manually Calculating the "
   ]
  },
  {
   "cell_type": "code",
   "execution_count": 31,
   "id": "a4f2be87",
   "metadata": {},
   "outputs": [
    {
     "data": {
      "text/html": [
       "<div>\n",
       "<style scoped>\n",
       "    .dataframe tbody tr th:only-of-type {\n",
       "        vertical-align: middle;\n",
       "    }\n",
       "\n",
       "    .dataframe tbody tr th {\n",
       "        vertical-align: top;\n",
       "    }\n",
       "\n",
       "    .dataframe thead th {\n",
       "        text-align: right;\n",
       "    }\n",
       "</style>\n",
       "<table border=\"1\" class=\"dataframe\">\n",
       "  <thead>\n",
       "    <tr style=\"text-align: right;\">\n",
       "      <th></th>\n",
       "      <th>Unnamed: 0</th>\n",
       "      <th>Bib</th>\n",
       "      <th>Name</th>\n",
       "      <th>Age</th>\n",
       "      <th>M/F</th>\n",
       "      <th>City</th>\n",
       "      <th>State</th>\n",
       "      <th>Country</th>\n",
       "      <th>Citizen</th>\n",
       "      <th>Unnamed: 9</th>\n",
       "      <th>...</th>\n",
       "      <th>30K</th>\n",
       "      <th>35K</th>\n",
       "      <th>40K</th>\n",
       "      <th>Pace</th>\n",
       "      <th>Proj Time</th>\n",
       "      <th>Official Time</th>\n",
       "      <th>Overall</th>\n",
       "      <th>Gender</th>\n",
       "      <th>Division</th>\n",
       "      <th>Unnamed: 8</th>\n",
       "    </tr>\n",
       "  </thead>\n",
       "  <tbody>\n",
       "    <tr>\n",
       "      <th>0</th>\n",
       "      <td>0.0</td>\n",
       "      <td>3</td>\n",
       "      <td>Desisa, Lelisa</td>\n",
       "      <td>25</td>\n",
       "      <td>M</td>\n",
       "      <td>Ambo</td>\n",
       "      <td>NaN</td>\n",
       "      <td>ETH</td>\n",
       "      <td>NaN</td>\n",
       "      <td>NaN</td>\n",
       "      <td>...</td>\n",
       "      <td>1:32:00</td>\n",
       "      <td>1:47:59</td>\n",
       "      <td>2:02:39</td>\n",
       "      <td>0:04:56</td>\n",
       "      <td>-</td>\n",
       "      <td>2:09:17</td>\n",
       "      <td>1</td>\n",
       "      <td>1</td>\n",
       "      <td>1</td>\n",
       "      <td>NaN</td>\n",
       "    </tr>\n",
       "    <tr>\n",
       "      <th>1</th>\n",
       "      <td>1.0</td>\n",
       "      <td>4</td>\n",
       "      <td>Tsegay, Yemane Adhane</td>\n",
       "      <td>30</td>\n",
       "      <td>M</td>\n",
       "      <td>Addis Ababa</td>\n",
       "      <td>NaN</td>\n",
       "      <td>ETH</td>\n",
       "      <td>NaN</td>\n",
       "      <td>NaN</td>\n",
       "      <td>...</td>\n",
       "      <td>1:31:59</td>\n",
       "      <td>1:47:59</td>\n",
       "      <td>2:02:42</td>\n",
       "      <td>0:04:58</td>\n",
       "      <td>-</td>\n",
       "      <td>2:09:48</td>\n",
       "      <td>2</td>\n",
       "      <td>2</td>\n",
       "      <td>2</td>\n",
       "      <td>NaN</td>\n",
       "    </tr>\n",
       "    <tr>\n",
       "      <th>2</th>\n",
       "      <td>2.0</td>\n",
       "      <td>8</td>\n",
       "      <td>Chebet, Wilson</td>\n",
       "      <td>29</td>\n",
       "      <td>M</td>\n",
       "      <td>Marakwet</td>\n",
       "      <td>NaN</td>\n",
       "      <td>KEN</td>\n",
       "      <td>NaN</td>\n",
       "      <td>NaN</td>\n",
       "      <td>...</td>\n",
       "      <td>1:32:00</td>\n",
       "      <td>1:47:59</td>\n",
       "      <td>2:03:01</td>\n",
       "      <td>0:04:59</td>\n",
       "      <td>-</td>\n",
       "      <td>2:10:22</td>\n",
       "      <td>3</td>\n",
       "      <td>3</td>\n",
       "      <td>3</td>\n",
       "      <td>NaN</td>\n",
       "    </tr>\n",
       "    <tr>\n",
       "      <th>3</th>\n",
       "      <td>3.0</td>\n",
       "      <td>11</td>\n",
       "      <td>Kipyego, Bernard</td>\n",
       "      <td>28</td>\n",
       "      <td>M</td>\n",
       "      <td>Eldoret</td>\n",
       "      <td>NaN</td>\n",
       "      <td>KEN</td>\n",
       "      <td>NaN</td>\n",
       "      <td>NaN</td>\n",
       "      <td>...</td>\n",
       "      <td>1:32:00</td>\n",
       "      <td>1:48:03</td>\n",
       "      <td>2:03:47</td>\n",
       "      <td>0:05:00</td>\n",
       "      <td>-</td>\n",
       "      <td>2:10:47</td>\n",
       "      <td>4</td>\n",
       "      <td>4</td>\n",
       "      <td>4</td>\n",
       "      <td>NaN</td>\n",
       "    </tr>\n",
       "    <tr>\n",
       "      <th>4</th>\n",
       "      <td>4.0</td>\n",
       "      <td>10</td>\n",
       "      <td>Korir, Wesley</td>\n",
       "      <td>32</td>\n",
       "      <td>M</td>\n",
       "      <td>Kitale</td>\n",
       "      <td>NaN</td>\n",
       "      <td>KEN</td>\n",
       "      <td>NaN</td>\n",
       "      <td>NaN</td>\n",
       "      <td>...</td>\n",
       "      <td>1:32:00</td>\n",
       "      <td>1:47:59</td>\n",
       "      <td>2:03:27</td>\n",
       "      <td>0:05:00</td>\n",
       "      <td>-</td>\n",
       "      <td>2:10:49</td>\n",
       "      <td>5</td>\n",
       "      <td>5</td>\n",
       "      <td>5</td>\n",
       "      <td>NaN</td>\n",
       "    </tr>\n",
       "  </tbody>\n",
       "</table>\n",
       "<p>5 rows × 26 columns</p>\n",
       "</div>"
      ],
      "text/plain": [
       "   Unnamed: 0 Bib                   Name  Age M/F         City State Country  \\\n",
       "0         0.0   3         Desisa, Lelisa   25   M         Ambo   NaN     ETH   \n",
       "1         1.0   4  Tsegay, Yemane Adhane   30   M  Addis Ababa   NaN     ETH   \n",
       "2         2.0   8         Chebet, Wilson   29   M     Marakwet   NaN     KEN   \n",
       "3         3.0  11       Kipyego, Bernard   28   M      Eldoret   NaN     KEN   \n",
       "4         4.0  10          Korir, Wesley   32   M       Kitale   NaN     KEN   \n",
       "\n",
       "  Citizen Unnamed: 9  ...      30K      35K      40K     Pace Proj Time  \\\n",
       "0     NaN        NaN  ...  1:32:00  1:47:59  2:02:39  0:04:56         -   \n",
       "1     NaN        NaN  ...  1:31:59  1:47:59  2:02:42  0:04:58         -   \n",
       "2     NaN        NaN  ...  1:32:00  1:47:59  2:03:01  0:04:59         -   \n",
       "3     NaN        NaN  ...  1:32:00  1:48:03  2:03:47  0:05:00         -   \n",
       "4     NaN        NaN  ...  1:32:00  1:47:59  2:03:27  0:05:00         -   \n",
       "\n",
       "  Official Time Overall Gender Division Unnamed: 8  \n",
       "0       2:09:17       1      1        1        NaN  \n",
       "1       2:09:48       2      2        2        NaN  \n",
       "2       2:10:22       3      3        3        NaN  \n",
       "3       2:10:47       4      4        4        NaN  \n",
       "4       2:10:49       5      5        5        NaN  \n",
       "\n",
       "[5 rows x 26 columns]"
      ]
     },
     "execution_count": 31,
     "metadata": {},
     "output_type": "execute_result"
    }
   ],
   "source": [
    "df.head()"
   ]
  },
  {
   "cell_type": "markdown",
   "id": "4b8efdce",
   "metadata": {},
   "source": [
    "#### for diabetes.csv dataset find the conditional probality that a persons glucose levels are > 110 given that the perons BMI >= 25 then reverse it : find the conditional probability that a person has BMI >= 25 given that the person glucose levels are > 100"
   ]
  },
  {
   "cell_type": "code",
   "execution_count": 84,
   "id": "70d01252",
   "metadata": {},
   "outputs": [],
   "source": [
    "df=pd.read_csv(r'C:\\Users\\dai.STUDENTSDC\\AppData\\DAI-1319\\Data Analytics\\Datasets\\diabetes.csv')"
   ]
  },
  {
   "cell_type": "code",
   "execution_count": 85,
   "id": "77b0ad70",
   "metadata": {},
   "outputs": [
    {
     "name": "stdout",
     "output_type": "stream",
     "text": [
      "0.6175115207373272\n"
     ]
    }
   ],
   "source": [
    "df.head()\n",
    "condition_A=df['Glucose']> 110\n",
    "condition_B=df['BMI']>= 25\n",
    "\n",
    "P_B = len(df[condition_B]) / len(df)\n",
    "P_A_and_B = len(df[condition_A & condition_B]) / len(df)\n",
    "\n",
    "print(P_A_and_B /P_B)"
   ]
  },
  {
   "cell_type": "code",
   "execution_count": 89,
   "id": "70abc497",
   "metadata": {},
   "outputs": [
    {
     "data": {
      "text/plain": [
       "448"
      ]
     },
     "execution_count": 89,
     "metadata": {},
     "output_type": "execute_result"
    }
   ],
   "source": [
    "condition_B=df['Glucose']> 110\n",
    "condition_A=df['BMI']>= 25\n",
    "\n",
    "P_B = len(df[condition_B]) / len(df)\n",
    "P_A_and_B = len(df[condition_A & condition_B]) / len(condition_B)\n",
    "condition_B.sum()\n",
    "# print(P_A_and_B /P_B)"
   ]
  },
  {
   "cell_type": "code",
   "execution_count": 58,
   "id": "86b34277",
   "metadata": {},
   "outputs": [
    {
     "data": {
      "text/plain": [
       "9.0"
      ]
     },
     "execution_count": 58,
     "metadata": {},
     "output_type": "execute_result"
    }
   ],
   "source": [
    "(0.9*1)/0.1\n"
   ]
  },
  {
   "cell_type": "code",
   "execution_count": 68,
   "id": "3e108300",
   "metadata": {},
   "outputs": [
    {
     "name": "stdout",
     "output_type": "stream",
     "text": [
      "   survived  pclass  gender   age  sibsp  parch     fare embarked deck\n",
      "0         0       3    male  22.0      1      0   7.2500        S  NaN\n",
      "1         1       1  female  38.0      1      0  71.2833        C    C\n",
      "2         1       3  female  26.0      0      0   7.9250        S  NaN\n",
      "3         1       1  female  35.0      1      0  53.1000        S    C\n",
      "4         0       3    male  35.0      0      0   8.0500        S  NaN\n",
      " Probability of survival given that the passenger is female 0.7420382165605095\n"
     ]
    }
   ],
   "source": [
    "df = pd.read_csv(r\"C:\\Users\\dai.STUDENTSDC\\Downloads\\titanic.csv\")\n",
    "print(df.head())\n",
    "total_passenger=len(df)\n",
    "\n",
    "#count of survived passenger\n",
    "srivived_count=len(df[df['survived']==1])\n",
    "\n",
    "# ount of female passesnger\n",
    "female_count= len(df[df['gender']=='female'])\n",
    "\n",
    "# count of females who survived\n",
    "female_survived_count=len(df[(df['survived'] == 1) & (df['gender'] =='female')])\n",
    "\n",
    "# calculate probabilities\n",
    "p_survived = srivived_count / total_passenger\n",
    "p_female = female_count/ total_passenger\n",
    "p_female_giiven_survived = female_survived_count / srivived_count\n",
    "\n",
    "# Applying bayers theorem\n",
    "\n",
    "p_survived_given_female=(p_female_giiven_survived * p_survived) / p_female\n",
    "print(f\" Probability of survival given that the passenger is female {p_survived_given_female}\") "
   ]
  },
  {
   "cell_type": "code",
   "execution_count": null,
   "id": "cd8673b1",
   "metadata": {},
   "outputs": [
    {
     "data": {
      "text/plain": [
       "0      False\n",
       "1       True\n",
       "2      False\n",
       "3      False\n",
       "4       True\n",
       "       ...  \n",
       "945     True\n",
       "946    False\n",
       "947    False\n",
       "948    False\n",
       "949    False\n",
       "Name: category, Length: 950, dtype: bool"
      ]
     },
     "execution_count": 94,
     "metadata": {},
     "output_type": "execute_result"
    }
   ],
   "source": [
    "df=pd.read_csv(r'C:\\Users\\dai.STUDENTSDC\\AppData\\DAI-1319\\Data Analytics\\Datasets\\nobel.csv')\n",
    "female_laureate=df['gender'] == 'female'\n",
    "physics_catogory=df['category'] == 'Physics'\n",
    "physics_female=(df['category'] == 'Physics') & (df['gender'] == 'female')\n",
    "physics_female_count=physics_female.sum()\n",
    "physics_catogory_count=physics_catogory.sum()\n",
    "female_laureate_count=female_laureate.sum()\n",
    "p_female = female_laureate_count / len(df)\n",
    "p_physics= physics_catogory_count / len(df)\n",
    "p_physics_female=(physics_female_count)/ len(df)\n",
    "p_physics_and_female=p_physics_female/p_female\n",
    "p_physics_and_female\n",
    "# df.category\n",
    "# df.columns"
   ]
  },
  {
   "cell_type": "code",
   "execution_count": null,
   "id": "2a33f055",
   "metadata": {},
   "outputs": [],
   "source": []
  }
 ],
 "metadata": {
  "kernelspec": {
   "display_name": "base",
   "language": "python",
   "name": "python3"
  },
  "language_info": {
   "codemirror_mode": {
    "name": "ipython",
    "version": 3
   },
   "file_extension": ".py",
   "mimetype": "text/x-python",
   "name": "python",
   "nbconvert_exporter": "python",
   "pygments_lexer": "ipython3",
   "version": "3.8.5"
  }
 },
 "nbformat": 4,
 "nbformat_minor": 5
}
