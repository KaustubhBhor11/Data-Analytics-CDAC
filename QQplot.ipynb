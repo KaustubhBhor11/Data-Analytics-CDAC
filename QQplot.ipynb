{
 "cells": [
  {
   "cell_type": "code",
   "execution_count": 1,
   "id": "df1b443b",
   "metadata": {},
   "outputs": [],
   "source": [
    "import pandas as pd\n",
    "import numpy as np\n",
    "import scipy.stats as stats\n",
    "import matplotlib.pyplot as plt\n"
   ]
  },
  {
   "cell_type": "code",
   "execution_count": 7,
   "id": "6cb442a1",
   "metadata": {},
   "outputs": [],
   "source": [
    "df=pd.read_csv(r'Datasets\\tips.csv')"
   ]
  },
  {
   "cell_type": "code",
   "execution_count": 11,
   "id": "bc7243c3",
   "metadata": {},
   "outputs": [
    {
     "name": "stdout",
     "output_type": "stream",
     "text": [
      "Test statitics W : 0.921815037727356\n",
      "p-value  4.896873462278961e-10\n",
      "Data is not normally distributed\n"
     ]
    },
    {
     "data": {
      "image/png": "[encoded data removed]",
      "text/plain": [
       "<Figure size 432x288 with 1 Axes>"
      ]
     },
     "metadata": {
      "needs_background": "light"
     },
     "output_type": "display_data"
    }
   ],
   "source": [
    "# total_bill_series=df['total_bill']\n",
    "total_bill_series=df['price_per_person']\n",
    "# nomallity test with shapiro wilk test\n",
    "shapiro_test=stats.shapiro(total_bill_series)\n",
    "print(\"Test statitics W :\",shapiro_test.statistic)\n",
    "print(\"p-value \", shapiro_test.pvalue)\n",
    "\n",
    "alpha = 0.05 # common significane level\n",
    "if shapiro_test.pvalue > alpha:\n",
    "    print(\"Data is normally distributed\")\n",
    "else:\n",
    "    print(\"Data is not normally distributed\")\n",
    "\n",
    "# QQ plit\n",
    "stats.probplot(total_bill_series,dist=\"norm\",plot=plt)\n",
    "plt.title('QQ plot of total Bill')\n",
    "plt.xlabel('Theroretical Quantiles (Normal Distribution)')\n",
    "plt.ylabel('Order values (Total Bill)')\n",
    "plt.grid(True)\n",
    "plt.show()"
   ]
  },
  {
   "cell_type": "code",
   "execution_count": 15,
   "id": "2ceec434",
   "metadata": {},
   "outputs": [
    {
     "data": {
      "text/html": [
       "<div>\n",
       "<style scoped>\n",
       "    .dataframe tbody tr th:only-of-type {\n",
       "        vertical-align: middle;\n",
       "    }\n",
       "\n",
       "    .dataframe tbody tr th {\n",
       "        vertical-align: top;\n",
       "    }\n",
       "\n",
       "    .dataframe thead th {\n",
       "        text-align: right;\n",
       "    }\n",
       "</style>\n",
       "<table border=\"1\" class=\"dataframe\">\n",
       "  <thead>\n",
       "    <tr style=\"text-align: right;\">\n",
       "      <th></th>\n",
       "      <th>Pregnancies</th>\n",
       "      <th>Glucose</th>\n",
       "      <th>BloodPressure</th>\n",
       "      <th>SkinThickness</th>\n",
       "      <th>Insulin</th>\n",
       "      <th>BMI</th>\n",
       "      <th>DiabetesPedigreeFunction</th>\n",
       "      <th>Age</th>\n",
       "      <th>Outcome</th>\n",
       "    </tr>\n",
       "  </thead>\n",
       "  <tbody>\n",
       "    <tr>\n",
       "      <th>0</th>\n",
       "      <td>6</td>\n",
       "      <td>148</td>\n",
       "      <td>72</td>\n",
       "      <td>35</td>\n",
       "      <td>0</td>\n",
       "      <td>33.6</td>\n",
       "      <td>0.627</td>\n",
       "      <td>50</td>\n",
       "      <td>1</td>\n",
       "    </tr>\n",
       "    <tr>\n",
       "      <th>1</th>\n",
       "      <td>1</td>\n",
       "      <td>85</td>\n",
       "      <td>66</td>\n",
       "      <td>29</td>\n",
       "      <td>0</td>\n",
       "      <td>26.6</td>\n",
       "      <td>0.351</td>\n",
       "      <td>31</td>\n",
       "      <td>0</td>\n",
       "    </tr>\n",
       "    <tr>\n",
       "      <th>2</th>\n",
       "      <td>8</td>\n",
       "      <td>183</td>\n",
       "      <td>64</td>\n",
       "      <td>0</td>\n",
       "      <td>0</td>\n",
       "      <td>23.3</td>\n",
       "      <td>0.672</td>\n",
       "      <td>32</td>\n",
       "      <td>1</td>\n",
       "    </tr>\n",
       "    <tr>\n",
       "      <th>3</th>\n",
       "      <td>1</td>\n",
       "      <td>89</td>\n",
       "      <td>66</td>\n",
       "      <td>23</td>\n",
       "      <td>94</td>\n",
       "      <td>28.1</td>\n",
       "      <td>0.167</td>\n",
       "      <td>21</td>\n",
       "      <td>0</td>\n",
       "    </tr>\n",
       "    <tr>\n",
       "      <th>4</th>\n",
       "      <td>0</td>\n",
       "      <td>137</td>\n",
       "      <td>40</td>\n",
       "      <td>35</td>\n",
       "      <td>168</td>\n",
       "      <td>43.1</td>\n",
       "      <td>2.288</td>\n",
       "      <td>33</td>\n",
       "      <td>1</td>\n",
       "    </tr>\n",
       "  </tbody>\n",
       "</table>\n",
       "</div>"
      ],
      "text/plain": [
       "   Pregnancies  Glucose  BloodPressure  SkinThickness  Insulin   BMI  \\\n",
       "0            6      148             72             35        0  33.6   \n",
       "1            1       85             66             29        0  26.6   \n",
       "2            8      183             64              0        0  23.3   \n",
       "3            1       89             66             23       94  28.1   \n",
       "4            0      137             40             35      168  43.1   \n",
       "\n",
       "   DiabetesPedigreeFunction  Age  Outcome  \n",
       "0                     0.627   50        1  \n",
       "1                     0.351   31        0  \n",
       "2                     0.672   32        1  \n",
       "3                     0.167   21        0  \n",
       "4                     2.288   33        1  "
      ]
     },
     "execution_count": 15,
     "metadata": {},
     "output_type": "execute_result"
    }
   ],
   "source": [
    "df=pd.read_csv(r'Datasets\\diabetes.csv')\n",
    "df.head()"
   ]
  },
  {
   "cell_type": "code",
   "execution_count": 18,
   "id": "907e16a9",
   "metadata": {},
   "outputs": [
    {
     "name": "stdout",
     "output_type": "stream",
     "text": [
      "Shapiro wilked p value   1.9867612763291298e-11\n",
      " The data likely does not follow a normal distribution\n"
     ]
    },
    {
     "data": {
      "image/png": "[encoded data removed]",
      "text/plain": [
       "<Figure size 432x288 with 1 Axes>"
      ]
     },
     "metadata": {
      "needs_background": "light"
     },
     "output_type": "display_data"
    },
    {
     "data": {
      "image/png": "[encoded data removed]",
      "text/plain": [
       "<Figure size 432x288 with 1 Axes>"
      ]
     },
     "metadata": {
      "needs_background": "light"
     },
     "output_type": "display_data"
    },
    {
     "name": "stdout",
     "output_type": "stream",
     "text": [
      "Shapiro wilk p value  0.2365494668483734\n",
      "Data may be normally distributed\n"
     ]
    }
   ],
   "source": [
    "# shapiro test on Glucose column\n",
    "shapiro_test=stats.shapiro(df['Glucose'])\n",
    "print(\"Shapiro wilked p value  \",shapiro_test.pvalue)\n",
    "if shapiro_test.pvalue < 0.05:\n",
    "    print(\" The data likely does not follow a normal distribution\")\n",
    "else:\n",
    "    print(\"Data may be normally distributed\")\n",
    "\n",
    "# Genereate a qq plot for the original column\n",
    "stats.probplot(df['Glucose'],dist=\"norm\",plot=plt)\n",
    "plt.title('qq plot of Glucose column')\n",
    "plt.show()\n",
    "\n",
    "# Central limit Theroem\n",
    "sample_means=[]\n",
    "n_sample=100\n",
    "sample_size=30\n",
    "\n",
    "for _ in range(n_sample):\n",
    "    sample=df['Glucose'].sample(n=sample_size,replace=True)\n",
    "    sample_means.append(sample.mean())\n",
    "\n",
    "# plot the distibution of sample means\n",
    "plt.hist(sample_means,bins=30,edgecolor='k',alpha=0.7)\n",
    "plt.title('Distribution of sample mean n = 30')\n",
    "plt.xlabel('Sample Mean')\n",
    "plt.ylabel('Frequency')\n",
    "plt.show()\n",
    "\n",
    "# perform the shapiro wilk test on the sample mean\n",
    "shapiro_test = stats.shapiro(sample_means)\n",
    "print('Shapiro wilk p value ',shapiro_test.pvalue)\n",
    "\n",
    "# Interpret the results\n",
    "if shapiro_test.pvalue < 0.05:\n",
    "    print(\" The data likely does not follow a normal distribution\")\n",
    "else:\n",
    "    print(\"Data may be normally distributed\")"
   ]
  }
 ],
 "metadata": {
  "kernelspec": {
   "display_name": "base",
   "language": "python",
   "name": "python3"
  },
  "language_info": {
   "codemirror_mode": {
    "name": "ipython",
    "version": 3
   },
   "file_extension": ".py",
   "mimetype": "text/x-python",
   "name": "python",
   "nbconvert_exporter": "python",
   "pygments_lexer": "ipython3",
   "version": "3.8.5"
  }
 },
 "nbformat": 4,
 "nbformat_minor": 5
}
