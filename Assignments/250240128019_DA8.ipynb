{
 "cells": [
  {
   "cell_type": "code",
   "execution_count": 222,
   "id": "debd17d2",
   "metadata": {},
   "outputs": [],
   "source": [
    "import pandas as pd\n",
    "import numpy as np\n",
    "import matplotlib.pyplot as plt\n",
    "import seaborn as sns\n",
    "import os\n",
    "\n",
    "import warnings\n",
    "warnings.filterwarnings('ignore')"
   ]
  },
  {
   "cell_type": "markdown",
   "id": "82e91c02",
   "metadata": {},
   "source": [
    "### Question Number 1:"
   ]
  },
  {
   "cell_type": "markdown",
   "id": "fd862e72",
   "metadata": {},
   "source": [
    "a. Read the entire dataset using pandas dataframe and build the file by appending each file in an optimized manner"
   ]
  },
  {
   "cell_type": "code",
   "execution_count": 223,
   "id": "9d1035b8",
   "metadata": {},
   "outputs": [
    {
     "name": "stdout",
     "output_type": "stream",
     "text": [
      "(576102, 16)\n"
     ]
    }
   ],
   "source": [
    "files=os.listdir(r'.\\Datasets\\Assignment8_data')\n",
    "base_path=os.getcwd()\n",
    "df=pd.DataFrame()\n",
    "for file in files:\n",
    "    df_part=pd.read_csv(f\"{base_path}\\\\Datasets\\\\Assignment8_data\\\\{file}\")\n",
    "    # print(df_part.shape)\n",
    "    df=pd.concat([df,df_part], ignore_index=True)\n",
    "print(df.shape)"
   ]
  },
  {
   "cell_type": "markdown",
   "id": "b0d3bf4a",
   "metadata": {},
   "source": [
    "b. What was the time duration for the average trip taken? (Use plotting techniques and write your observations for the same.)"
   ]
  },
  {
   "cell_type": "code",
   "execution_count": 224,
   "id": "bf043155",
   "metadata": {},
   "outputs": [
    {
     "data": {
      "text/html": [
       "<div>\n",
       "<style scoped>\n",
       "    .dataframe tbody tr th:only-of-type {\n",
       "        vertical-align: middle;\n",
       "    }\n",
       "\n",
       "    .dataframe tbody tr th {\n",
       "        vertical-align: top;\n",
       "    }\n",
       "\n",
       "    .dataframe thead th {\n",
       "        text-align: right;\n",
       "    }\n",
       "</style>\n",
       "<table border=\"1\" class=\"dataframe\">\n",
       "  <thead>\n",
       "    <tr style=\"text-align: right;\">\n",
       "      <th></th>\n",
       "      <th>duration_sec</th>\n",
       "      <th>start_time</th>\n",
       "      <th>end_time</th>\n",
       "      <th>start_station_id</th>\n",
       "      <th>start_station_name</th>\n",
       "      <th>start_station_latitude</th>\n",
       "      <th>start_station_longitude</th>\n",
       "      <th>end_station_id</th>\n",
       "      <th>end_station_name</th>\n",
       "      <th>end_station_latitude</th>\n",
       "      <th>end_station_longitude</th>\n",
       "      <th>bike_id</th>\n",
       "      <th>user_type</th>\n",
       "      <th>member_birth_year</th>\n",
       "      <th>member_gender</th>\n",
       "      <th>bike_share_for_all_trip</th>\n",
       "    </tr>\n",
       "  </thead>\n",
       "  <tbody>\n",
       "    <tr>\n",
       "      <th>0</th>\n",
       "      <td>71766</td>\n",
       "      <td>2018-03-31 16:58:33.1490</td>\n",
       "      <td>2018-04-01 12:54:39.2630</td>\n",
       "      <td>4.0</td>\n",
       "      <td>Cyril Magnin St at Ellis St</td>\n",
       "      <td>37.785881</td>\n",
       "      <td>-122.408915</td>\n",
       "      <td>6.0</td>\n",
       "      <td>The Embarcadero at Sansome St</td>\n",
       "      <td>37.804770</td>\n",
       "      <td>-122.403234</td>\n",
       "      <td>341</td>\n",
       "      <td>Customer</td>\n",
       "      <td>1964.0</td>\n",
       "      <td>Female</td>\n",
       "      <td>No</td>\n",
       "    </tr>\n",
       "    <tr>\n",
       "      <th>1</th>\n",
       "      <td>62569</td>\n",
       "      <td>2018-03-31 19:03:35.9160</td>\n",
       "      <td>2018-04-01 12:26:25.0350</td>\n",
       "      <td>78.0</td>\n",
       "      <td>Folsom St at 9th St</td>\n",
       "      <td>37.773717</td>\n",
       "      <td>-122.411647</td>\n",
       "      <td>47.0</td>\n",
       "      <td>4th St at Harrison St</td>\n",
       "      <td>37.780955</td>\n",
       "      <td>-122.399749</td>\n",
       "      <td>536</td>\n",
       "      <td>Subscriber</td>\n",
       "      <td>1984.0</td>\n",
       "      <td>Male</td>\n",
       "      <td>No</td>\n",
       "    </tr>\n",
       "    <tr>\n",
       "      <th>2</th>\n",
       "      <td>56221</td>\n",
       "      <td>2018-03-31 20:13:13.5640</td>\n",
       "      <td>2018-04-01 11:50:14.8400</td>\n",
       "      <td>258.0</td>\n",
       "      <td>University Ave at Oxford St</td>\n",
       "      <td>37.872355</td>\n",
       "      <td>-122.266447</td>\n",
       "      <td>239.0</td>\n",
       "      <td>Bancroft Way at Telegraph Ave</td>\n",
       "      <td>37.868813</td>\n",
       "      <td>-122.258764</td>\n",
       "      <td>3245</td>\n",
       "      <td>Customer</td>\n",
       "      <td>1983.0</td>\n",
       "      <td>Male</td>\n",
       "      <td>No</td>\n",
       "    </tr>\n",
       "    <tr>\n",
       "      <th>3</th>\n",
       "      <td>85844</td>\n",
       "      <td>2018-03-31 11:28:07.6580</td>\n",
       "      <td>2018-04-01 11:18:52.6130</td>\n",
       "      <td>186.0</td>\n",
       "      <td>Lakeside Dr at 14th St</td>\n",
       "      <td>37.801319</td>\n",
       "      <td>-122.262642</td>\n",
       "      <td>340.0</td>\n",
       "      <td>Harmon St at Adeline St</td>\n",
       "      <td>37.849735</td>\n",
       "      <td>-122.270582</td>\n",
       "      <td>3722</td>\n",
       "      <td>Customer</td>\n",
       "      <td>NaN</td>\n",
       "      <td>NaN</td>\n",
       "      <td>No</td>\n",
       "    </tr>\n",
       "    <tr>\n",
       "      <th>4</th>\n",
       "      <td>1566</td>\n",
       "      <td>2018-03-31 23:37:56.6400</td>\n",
       "      <td>2018-04-01 00:04:02.8930</td>\n",
       "      <td>193.0</td>\n",
       "      <td>Grand Ave at Santa Clara Ave</td>\n",
       "      <td>37.812744</td>\n",
       "      <td>-122.247215</td>\n",
       "      <td>196.0</td>\n",
       "      <td>Grand Ave at Perkins St</td>\n",
       "      <td>37.808894</td>\n",
       "      <td>-122.256460</td>\n",
       "      <td>2355</td>\n",
       "      <td>Subscriber</td>\n",
       "      <td>1979.0</td>\n",
       "      <td>Male</td>\n",
       "      <td>No</td>\n",
       "    </tr>\n",
       "  </tbody>\n",
       "</table>\n",
       "</div>"
      ],
      "text/plain": [
       "   duration_sec                start_time                  end_time  \\\n",
       "0         71766  2018-03-31 16:58:33.1490  2018-04-01 12:54:39.2630   \n",
       "1         62569  2018-03-31 19:03:35.9160  2018-04-01 12:26:25.0350   \n",
       "2         56221  2018-03-31 20:13:13.5640  2018-04-01 11:50:14.8400   \n",
       "3         85844  2018-03-31 11:28:07.6580  2018-04-01 11:18:52.6130   \n",
       "4          1566  2018-03-31 23:37:56.6400  2018-04-01 00:04:02.8930   \n",
       "\n",
       "   start_station_id            start_station_name  start_station_latitude  \\\n",
       "0               4.0   Cyril Magnin St at Ellis St               37.785881   \n",
       "1              78.0           Folsom St at 9th St               37.773717   \n",
       "2             258.0   University Ave at Oxford St               37.872355   \n",
       "3             186.0        Lakeside Dr at 14th St               37.801319   \n",
       "4             193.0  Grand Ave at Santa Clara Ave               37.812744   \n",
       "\n",
       "   start_station_longitude  end_station_id               end_station_name  \\\n",
       "0              -122.408915             6.0  The Embarcadero at Sansome St   \n",
       "1              -122.411647            47.0          4th St at Harrison St   \n",
       "2              -122.266447           239.0  Bancroft Way at Telegraph Ave   \n",
       "3              -122.262642           340.0        Harmon St at Adeline St   \n",
       "4              -122.247215           196.0        Grand Ave at Perkins St   \n",
       "\n",
       "   end_station_latitude  end_station_longitude  bike_id   user_type  \\\n",
       "0             37.804770            -122.403234      341    Customer   \n",
       "1             37.780955            -122.399749      536  Subscriber   \n",
       "2             37.868813            -122.258764     3245    Customer   \n",
       "3             37.849735            -122.270582     3722    Customer   \n",
       "4             37.808894            -122.256460     2355  Subscriber   \n",
       "\n",
       "   member_birth_year member_gender bike_share_for_all_trip  \n",
       "0             1964.0        Female                      No  \n",
       "1             1984.0          Male                      No  \n",
       "2             1983.0          Male                      No  \n",
       "3                NaN           NaN                      No  \n",
       "4             1979.0          Male                      No  "
      ]
     },
     "execution_count": 224,
     "metadata": {},
     "output_type": "execute_result"
    }
   ],
   "source": [
    "df.head()"
   ]
  },
  {
   "cell_type": "code",
   "execution_count": 225,
   "id": "cc9d8d02",
   "metadata": {},
   "outputs": [
    {
     "name": "stdout",
     "output_type": "stream",
     "text": [
      "The average duration time is: 834.4304272507298\n"
     ]
    },
    {
     "data": {
      "image/png": "[encoded data removed]",
      "text/plain": [
       "<Figure size 864x576 with 1 Axes>"
      ]
     },
     "metadata": {
      "needs_background": "light"
     },
     "output_type": "display_data"
    }
   ],
   "source": [
    "trip_avg=df['duration_sec'].mean()\n",
    "print(f\"The average duration time is: {trip_avg}\")\n",
    "\n",
    "x_ticks=np.arange(0,80001,2000)\n",
    "\n",
    "plt.figure(figsize=(12,8))\n",
    "plt.hist(df['duration_sec'], bins=30, alpha=0.7, color='blue', edgecolor='black')\n",
    "plt.axvline(trip_avg, color='red', linestyle='dashed', linewidth=2, label=f'Avg: {trip_avg:.2f}')\n",
    "plt.xlabel(\"Duration (in sec)\")\n",
    "plt.ylabel(\"Frequency\")\n",
    "plt.xticks(x_ticks,rotation=90)\n",
    "plt.legend()\n",
    "plt.show()\n",
    "\n",
    "# Here we can see that athe average time for a trip is 834.43 sec and the most trips are are short trips for around 0 - 3000 sec."
   ]
  },
  {
   "cell_type": "markdown",
   "id": "df72a0fc",
   "metadata": {},
   "source": [
    "c. Is there any correlation between the months and the trip duration? Use scatter plot\n",
    "and comment your observations from the plot"
   ]
  },
  {
   "cell_type": "code",
   "execution_count": 226,
   "id": "b33a653d",
   "metadata": {},
   "outputs": [
    {
     "data": {
      "image/png": "[encoded data removed]",
      "text/plain": [
       "<Figure size 432x288 with 1 Axes>"
      ]
     },
     "metadata": {
      "needs_background": "light"
     },
     "output_type": "display_data"
    }
   ],
   "source": [
    "months = ['Jan', 'Feb', 'Mar', 'Apr', 'May', 'Jun', 'Jul', 'Aug', 'Sep', 'Oct', 'Nov', 'Dec']\n",
    "df['Month']=pd.to_datetime(df['start_time']).dt.month\n",
    "plt.scatter(df['Month'],df['duration_sec'])\n",
    "plt.xlabel('Months')\n",
    "plt.ylabel('Duration ( in seconds )')\n",
    "plt.xticks(ticks=range(1,13),labels=months,rotation=45)\n",
    "plt.show()\n",
    "# Most of the trips are done during months of March , July, November and December may it be short or long trips"
   ]
  },
  {
   "cell_type": "code",
   "execution_count": 227,
   "id": "5aa134f7",
   "metadata": {},
   "outputs": [
    {
     "data": {
      "image/png": "[encoded data removed]",
      "text/plain": [
       "<Figure size 720x432 with 1 Axes>"
      ]
     },
     "metadata": {
      "needs_background": "light"
     },
     "output_type": "display_data"
    }
   ],
   "source": [
    "import seaborn as sns\n",
    "import matplotlib.pyplot as plt\n",
    "\n",
    "def season(month):\n",
    "    summer = [2, 3, 4, 5]  \n",
    "    winter = [10, 11, 12, 1] \n",
    "    if month in summer:\n",
    "        return 'Summer'\n",
    "    elif month in winter:\n",
    "        return 'Winter'\n",
    "    else:\n",
    "        return 'Rainy'\n",
    "\n",
    "df['Seasons'] = df['Month'].map(season)\n",
    "\n",
    "plt.figure(figsize=(10, 6))\n",
    "sns.boxplot(x='Seasons', y='duration_sec', data=df, palette='Set2')\n",
    "plt.title('Trip Duration Distribution by Season', fontsize=14)\n",
    "plt.xlabel('Season', fontsize=12)\n",
    "plt.ylabel('Trip Duration (seconds)', fontsize=12)\n",
    "plt.ylim(0, 5000)\n",
    "plt.show()\n",
    "\n"
   ]
  },
  {
   "cell_type": "code",
   "execution_count": 228,
   "id": "fbcf983f",
   "metadata": {},
   "outputs": [
    {
     "data": {
      "image/png": "[encoded data removed]",
      "text/plain": [
       "<Figure size 432x288 with 1 Axes>"
      ]
     },
     "metadata": {
      "needs_background": "light"
     },
     "output_type": "display_data"
    }
   ],
   "source": [
    "df['Seasons']=df['Month'].map(season)\n",
    "sns.countplot(df['Seasons'])\n",
    "plt.show()\n",
    "\n",
    "#We can see most of the trips are present in the winter season and least trips are done in summer"
   ]
  },
  {
   "cell_type": "markdown",
   "id": "5ff94a46",
   "metadata": {},
   "source": [
    "e. Using multivariate exploration, explain whether there is any relation between short\n",
    "trips and the users."
   ]
  },
  {
   "cell_type": "code",
   "execution_count": 229,
   "id": "661d02b5",
   "metadata": {},
   "outputs": [
    {
     "data": {
      "image/png": "[encoded data removed]",
      "text/plain": [
       "<Figure size 720x432 with 1 Axes>"
      ]
     },
     "metadata": {
      "needs_background": "light"
     },
     "output_type": "display_data"
    }
   ],
   "source": [
    "short_trip_threshold = 2000\n",
    "y_ticks=np.arange(0,600000,30000)\n",
    "df['Trip_Type'] = df['duration_sec'].apply(lambda x: 'Short' if x < short_trip_threshold else 'Long')\n",
    "\n",
    "user_trip_distribution = df.groupby(['user_type', 'Trip_Type']).size().unstack()\n",
    "\n",
    "user_trip_distribution.plot(kind='bar', stacked=False, figsize=(10, 6), color=['skyblue', 'orange'],zorder=3)\n",
    "plt.title('Distribution of Short and Long Trips by User Type')\n",
    "plt.xlabel('User Type')\n",
    "plt.ylabel('Number of Trips')\n",
    "plt.legend(title='Trip Type')\n",
    "plt.xticks(rotation=0)\n",
    "plt.yticks(y_ticks)\n",
    "plt.grid(which='major')\n",
    "plt.show()\n",
    "\n",
    "# From graph we can see that majority of the short trips are done by subscribers rather than customers and long trips are almost same for customers and subscriber"
   ]
  },
  {
   "cell_type": "markdown",
   "id": "0081055a",
   "metadata": {},
   "source": [
    "### Question Number 2:"
   ]
  },
  {
   "cell_type": "markdown",
   "id": "2cf0c0eb",
   "metadata": {},
   "source": [
    "a. Create a Matrix between 0 and 1, with each value difference of 0.01."
   ]
  },
  {
   "cell_type": "code",
   "execution_count": 230,
   "id": "df560552",
   "metadata": {},
   "outputs": [
    {
     "data": {
      "text/plain": [
       "array([0.  , 0.01, 0.02, 0.03, 0.04, 0.05, 0.06, 0.07, 0.08, 0.09, 0.1 ,\n",
       "       0.11, 0.12, 0.13, 0.14, 0.15, 0.16, 0.17, 0.18, 0.19, 0.2 , 0.21,\n",
       "       0.22, 0.23, 0.24, 0.25, 0.26, 0.27, 0.28, 0.29, 0.3 , 0.31, 0.32,\n",
       "       0.33, 0.34, 0.35, 0.36, 0.37, 0.38, 0.39, 0.4 , 0.41, 0.42, 0.43,\n",
       "       0.44, 0.45, 0.46, 0.47, 0.48, 0.49, 0.5 , 0.51, 0.52, 0.53, 0.54,\n",
       "       0.55, 0.56, 0.57, 0.58, 0.59, 0.6 , 0.61, 0.62, 0.63, 0.64, 0.65,\n",
       "       0.66, 0.67, 0.68, 0.69, 0.7 , 0.71, 0.72, 0.73, 0.74, 0.75, 0.76,\n",
       "       0.77, 0.78, 0.79, 0.8 , 0.81, 0.82, 0.83, 0.84, 0.85, 0.86, 0.87,\n",
       "       0.88, 0.89, 0.9 , 0.91, 0.92, 0.93, 0.94, 0.95, 0.96, 0.97, 0.98,\n",
       "       0.99])"
      ]
     },
     "execution_count": 230,
     "metadata": {},
     "output_type": "execute_result"
    }
   ],
   "source": [
    "array=np.arange(0,1,0.01)\n",
    "array"
   ]
  },
  {
   "cell_type": "markdown",
   "id": "af9931e5",
   "metadata": {},
   "source": [
    "b. Create an array of 20 linearly spaced points between 0 and 1."
   ]
  },
  {
   "cell_type": "code",
   "execution_count": 231,
   "id": "4bff5437",
   "metadata": {},
   "outputs": [
    {
     "data": {
      "text/plain": [
       "array([0.        , 0.05263158, 0.10526316, 0.15789474, 0.21052632,\n",
       "       0.26315789, 0.31578947, 0.36842105, 0.42105263, 0.47368421,\n",
       "       0.52631579, 0.57894737, 0.63157895, 0.68421053, 0.73684211,\n",
       "       0.78947368, 0.84210526, 0.89473684, 0.94736842, 1.        ])"
      ]
     },
     "execution_count": 231,
     "metadata": {},
     "output_type": "execute_result"
    }
   ],
   "source": [
    "array=np.linspace(0,1,20)\n",
    "array"
   ]
  },
  {
   "cell_type": "markdown",
   "id": "c15c64f5",
   "metadata": {},
   "source": [
    "c. Create a 5*5 matrix using range 1 to 26, and return sum of the matrix, standard\n",
    "deviation and sum of all the columns of the matrix."
   ]
  },
  {
   "cell_type": "code",
   "execution_count": 232,
   "id": "f3acf3c2",
   "metadata": {},
   "outputs": [
    {
     "name": "stdout",
     "output_type": "stream",
     "text": [
      "Id array is :[ 1  2  3  4  5  6  7  8  9 10 11 12 13 14 15 16 17 18 19 20 21 22 23 24\n",
      " 25]\n",
      "5x5 array is: \n",
      "[[ 1  2  3  4  5]\n",
      " [ 6  7  8  9 10]\n",
      " [11 12 13 14 15]\n",
      " [16 17 18 19 20]\n",
      " [21 22 23 24 25]]\n",
      "Sum of array is :325\n",
      "Array Stndard deviation is :7.211102550927978\n",
      "Column wise sum is: [55 60 65 70 75]\n"
     ]
    }
   ],
   "source": [
    "array_1d=np.arange(1,26)\n",
    "array_5x5=array_1d.reshape(5,5)\n",
    "array_sum=np.sum(array_5x5)\n",
    "array_std=np.std(array_5x5)\n",
    "column_sum=np.sum(array_5x5,axis=0)\n",
    "\n",
    "print(f\"Id array is :{array_1d}\")\n",
    "print(f\"5x5 array is: \\n{array_5x5}\")\n",
    "print(f\"Sum of array is :{array_sum}\")\n",
    "print(f\"Array Stndard deviation is :{array_std}\")\n",
    "print(f\"Column wise sum is: {column_sum}\")"
   ]
  },
  {
   "cell_type": "markdown",
   "id": "6bfa2043",
   "metadata": {},
   "source": [
    "### Question Number 3:"
   ]
  },
  {
   "cell_type": "markdown",
   "id": "4c16a966",
   "metadata": {},
   "source": [
    "a. Create a figure object and axis of the figure canvas at axis1 = [0,0,1,1]. Provide\n",
    "necessary labels and title to the plot."
   ]
  },
  {
   "cell_type": "code",
   "execution_count": 233,
   "id": "c60b3dbc",
   "metadata": {},
   "outputs": [
    {
     "data": {
      "image/png": "[encoded data removed]",
      "text/plain": [
       "<Figure size 576x432 with 1 Axes>"
      ]
     },
     "metadata": {
      "needs_background": "light"
     },
     "output_type": "display_data"
    }
   ],
   "source": [
    "import numpy as np\n",
    "x = np.arange(0,100)\n",
    "y = x*2\n",
    "z = x**2\n",
    "x = np.arange(0, 100)\n",
    "y = x * 2\n",
    "\n",
    "fig = plt.figure(figsize=(8, 6))\n",
    "ax = fig.add_axes([0, 0, 1, 1])  \n",
    "\n",
    "ax.plot(x, y, label='y = 2x', color='blue')\n",
    "\n",
    "ax.set_title('Linear Relationship between X and Y', fontsize=14)\n",
    "ax.set_xlabel('X-axis', fontsize=12)\n",
    "ax.set_ylabel('Y-axis', fontsize=12)\n",
    "ax.legend()\n",
    "plt.show()"
   ]
  },
  {
   "cell_type": "markdown",
   "id": "d242fea2",
   "metadata": {},
   "source": [
    "b. Create another plot at axis1 = [0,0,1,1] and axis2 = [0.2,0.5,0.2,0.2]"
   ]
  },
  {
   "cell_type": "code",
   "execution_count": 234,
   "id": "3daef9d2",
   "metadata": {},
   "outputs": [
    {
     "data": {
      "image/png": "[encoded data removed]",
      "text/plain": [
       "<Figure size 576x432 with 2 Axes>"
      ]
     },
     "metadata": {
      "needs_background": "light"
     },
     "output_type": "display_data"
    }
   ],
   "source": [
    "fig = plt.figure(figsize=(8, 6))\n",
    "ax1 = fig.add_axes([0, 0, 1, 1])  \n",
    "ax1.plot(x, y, label='y = 2x', color='blue')\n",
    "ax1.set_title('Main Plot', fontsize=14)\n",
    "ax1.set_xlabel('X-axis', fontsize=12)\n",
    "ax1.set_ylabel('Y-axis', fontsize=12)\n",
    "ax1.legend()\n",
    "\n",
    "\n",
    "ax2 = fig.add_axes([0.2, 0.5, 0.2, 0.2])\n",
    "ax2.plot(x, y, label='y = 2x', color='orange')\n",
    "ax2.set_title('Inset Plot', fontsize=10)\n",
    "ax2.set_xlabel('X-axis', fontsize=8)\n",
    "ax2.set_ylabel('Y-axis', fontsize=8)\n",
    "ax2.legend(fontsize=8)\n",
    "\n",
    "plt.show()"
   ]
  },
  {
   "cell_type": "markdown",
   "id": "4d7f422b",
   "metadata": {},
   "source": [
    "c. Create a plot by adding two axis object at [0,0,1,1] & [0.2,0.5,0.4,0.4]"
   ]
  },
  {
   "cell_type": "code",
   "execution_count": 235,
   "id": "e286fab6",
   "metadata": {},
   "outputs": [
    {
     "data": {
      "image/png": "[encoded data removed]",
      "text/plain": [
       "<Figure size 576x432 with 2 Axes>"
      ]
     },
     "metadata": {
      "needs_background": "light"
     },
     "output_type": "display_data"
    }
   ],
   "source": [
    "import matplotlib.pyplot as plt\n",
    "import numpy as np\n",
    "\n",
    "x = np.arange(0, 100)\n",
    "y = x * 2\n",
    "z = x ** 2\n",
    "\n",
    "fig = plt.figure(figsize=(8, 6))\n",
    "\n",
    "ax1 = fig.add_axes([0, 0, 1, 1])  \n",
    "ax1.plot(x, y, label='y = 2x', color='blue')\n",
    "ax1.set_title('Main Plot', fontsize=14)\n",
    "ax1.set_xlabel('X-axis', fontsize=12)\n",
    "ax1.set_ylabel('Y-axis', fontsize=12)\n",
    "ax1.legend()\n",
    "\n",
    "\n",
    "ax2 = fig.add_axes([0.2, 0.5, 0.4, 0.4])\n",
    "ax2.plot(x, z, label='z = x^2', color='green')\n",
    "ax2.set_title('Inset Plot', fontsize=10)\n",
    "ax2.set_xlabel('X-axis', fontsize=8)\n",
    "ax2.set_ylabel('Z-axis', fontsize=8)\n",
    "ax2.legend(fontsize=8)\n",
    "\n",
    "plt.show()"
   ]
  },
  {
   "cell_type": "markdown",
   "id": "ad44c58a",
   "metadata": {},
   "source": [
    "d. Use x, y, z array to create the plots\n",
    "i. Between x and z arrays\n",
    "ii. Between x & y arrays by setting the x-limit in range 20-22 and y-limit range in\n",
    "30-50"
   ]
  },
  {
   "cell_type": "code",
   "execution_count": 236,
   "id": "d46bcb51",
   "metadata": {},
   "outputs": [
    {
     "data": {
      "image/png": "[encoded data removed]",
      "text/plain": [
       "<Figure size 576x432 with 1 Axes>"
      ]
     },
     "metadata": {
      "needs_background": "light"
     },
     "output_type": "display_data"
    }
   ],
   "source": [
    "fig = plt.figure(figsize=(8, 6))\n",
    "ax = fig.add_axes([0, 0, 1, 1])  \n",
    "\n",
    "ax.plot(x, z, label='z = x**2', color='blue')\n",
    "\n",
    "ax.set_title('Linear Relationship between X and Z', fontsize=14)\n",
    "ax.set_xlabel('X-axis', fontsize=12)\n",
    "ax.set_ylabel('Z-axis', fontsize=12)\n",
    "ax.legend()\n",
    "plt.show()"
   ]
  },
  {
   "cell_type": "code",
   "execution_count": 237,
   "id": "f57b94dd",
   "metadata": {},
   "outputs": [
    {
     "data": {
      "image/png": "[encoded data removed]",
      "text/plain": [
       "<Figure size 576x432 with 1 Axes>"
      ]
     },
     "metadata": {
      "needs_background": "light"
     },
     "output_type": "display_data"
    }
   ],
   "source": [
    "fig = plt.figure(figsize=(8, 6))\n",
    "ax = fig.add_axes([0, 0, 1, 1])  \n",
    "\n",
    "ax.plot(x, y, label='y = 2x', color='blue')\n",
    "\n",
    "ax.set_title('Linear Relationship between X and Y', fontsize=14)\n",
    "ax.set_xlabel('X-axis', fontsize=12)\n",
    "ax.set_ylabel('Y-axis', fontsize=12)\n",
    "plt.xlim(20,22)\n",
    "plt.ylim(30,50)\n",
    "ax.legend()\n",
    "plt.show()"
   ]
  },
  {
   "cell_type": "markdown",
   "id": "fd9d31f1",
   "metadata": {},
   "source": [
    "### Question Number 4: The purchase analysis of walmart."
   ]
  },
  {
   "cell_type": "markdown",
   "id": "7e0d6900",
   "metadata": {},
   "source": [
    "a. What is the average Purchase Price?"
   ]
  },
  {
   "cell_type": "code",
   "execution_count": 238,
   "id": "8e8d8b59",
   "metadata": {},
   "outputs": [
    {
     "name": "stdout",
     "output_type": "stream",
     "text": [
      "average Purchase Price 50.34730200000025\n"
     ]
    },
    {
     "data": {
      "text/html": [
       "<div>\n",
       "<style scoped>\n",
       "    .dataframe tbody tr th:only-of-type {\n",
       "        vertical-align: middle;\n",
       "    }\n",
       "\n",
       "    .dataframe tbody tr th {\n",
       "        vertical-align: top;\n",
       "    }\n",
       "\n",
       "    .dataframe thead th {\n",
       "        text-align: right;\n",
       "    }\n",
       "</style>\n",
       "<table border=\"1\" class=\"dataframe\">\n",
       "  <thead>\n",
       "    <tr style=\"text-align: right;\">\n",
       "      <th></th>\n",
       "      <th>Address</th>\n",
       "      <th>Lot</th>\n",
       "      <th>AM or PM</th>\n",
       "      <th>Browser Info</th>\n",
       "      <th>Company</th>\n",
       "      <th>Credit Card</th>\n",
       "      <th>CC Exp Date</th>\n",
       "      <th>CC Security Code</th>\n",
       "      <th>CC Provider</th>\n",
       "      <th>Email</th>\n",
       "      <th>Job</th>\n",
       "      <th>IP Address</th>\n",
       "      <th>Language</th>\n",
       "      <th>Purchase Price</th>\n",
       "    </tr>\n",
       "  </thead>\n",
       "  <tbody>\n",
       "    <tr>\n",
       "      <th>0</th>\n",
       "      <td>16629 Pace Camp Apt. 448\\nAlexisborough, NE 77...</td>\n",
       "      <td>46 in</td>\n",
       "      <td>PM</td>\n",
       "      <td>Opera/9.56.(X11; Linux x86_64; sl-SI) Presto/2...</td>\n",
       "      <td>Martinez-Herman</td>\n",
       "      <td>6011929061123406</td>\n",
       "      <td>02/20</td>\n",
       "      <td>900</td>\n",
       "      <td>JCB 16 digit</td>\n",
       "      <td>pdunlap@yahoo.com</td>\n",
       "      <td>Scientist, product/process development</td>\n",
       "      <td>149.146.147.205</td>\n",
       "      <td>el</td>\n",
       "      <td>98.14</td>\n",
       "    </tr>\n",
       "    <tr>\n",
       "      <th>1</th>\n",
       "      <td>9374 Jasmine Spurs Suite 508\\nSouth John, TN 8...</td>\n",
       "      <td>28 rn</td>\n",
       "      <td>PM</td>\n",
       "      <td>Opera/8.93.(Windows 98; Win 9x 4.90; en-US) Pr...</td>\n",
       "      <td>Fletcher, Richards and Whitaker</td>\n",
       "      <td>3337758169645356</td>\n",
       "      <td>11/18</td>\n",
       "      <td>561</td>\n",
       "      <td>Mastercard</td>\n",
       "      <td>anthony41@reed.com</td>\n",
       "      <td>Drilling engineer</td>\n",
       "      <td>15.160.41.51</td>\n",
       "      <td>fr</td>\n",
       "      <td>70.73</td>\n",
       "    </tr>\n",
       "    <tr>\n",
       "      <th>2</th>\n",
       "      <td>Unit 0065 Box 5052\\nDPO AP 27450</td>\n",
       "      <td>94 vE</td>\n",
       "      <td>PM</td>\n",
       "      <td>Mozilla/5.0 (compatible; MSIE 9.0; Windows NT ...</td>\n",
       "      <td>Simpson, Williams and Pham</td>\n",
       "      <td>675957666125</td>\n",
       "      <td>08/19</td>\n",
       "      <td>699</td>\n",
       "      <td>JCB 16 digit</td>\n",
       "      <td>amymiller@morales-harrison.com</td>\n",
       "      <td>Customer service manager</td>\n",
       "      <td>132.207.160.22</td>\n",
       "      <td>de</td>\n",
       "      <td>0.95</td>\n",
       "    </tr>\n",
       "    <tr>\n",
       "      <th>3</th>\n",
       "      <td>7780 Julia Fords\\nNew Stacy, WA 45798</td>\n",
       "      <td>36 vm</td>\n",
       "      <td>PM</td>\n",
       "      <td>Mozilla/5.0 (Macintosh; Intel Mac OS X 10_8_0 ...</td>\n",
       "      <td>Williams, Marshall and Buchanan</td>\n",
       "      <td>6011578504430710</td>\n",
       "      <td>02/24</td>\n",
       "      <td>384</td>\n",
       "      <td>Discover</td>\n",
       "      <td>brent16@olson-robinson.info</td>\n",
       "      <td>Drilling engineer</td>\n",
       "      <td>30.250.74.19</td>\n",
       "      <td>es</td>\n",
       "      <td>78.04</td>\n",
       "    </tr>\n",
       "    <tr>\n",
       "      <th>4</th>\n",
       "      <td>23012 Munoz Drive Suite 337\\nNew Cynthia, TX 5...</td>\n",
       "      <td>20 IE</td>\n",
       "      <td>AM</td>\n",
       "      <td>Opera/9.58.(X11; Linux x86_64; it-IT) Presto/2...</td>\n",
       "      <td>Brown, Watson and Andrews</td>\n",
       "      <td>6011456623207998</td>\n",
       "      <td>10/25</td>\n",
       "      <td>678</td>\n",
       "      <td>Diners Club / Carte Blanche</td>\n",
       "      <td>christopherwright@gmail.com</td>\n",
       "      <td>Fine artist</td>\n",
       "      <td>24.140.33.94</td>\n",
       "      <td>es</td>\n",
       "      <td>77.82</td>\n",
       "    </tr>\n",
       "  </tbody>\n",
       "</table>\n",
       "</div>"
      ],
      "text/plain": [
       "                                             Address    Lot AM or PM  \\\n",
       "0  16629 Pace Camp Apt. 448\\nAlexisborough, NE 77...  46 in       PM   \n",
       "1  9374 Jasmine Spurs Suite 508\\nSouth John, TN 8...  28 rn       PM   \n",
       "2                   Unit 0065 Box 5052\\nDPO AP 27450  94 vE       PM   \n",
       "3              7780 Julia Fords\\nNew Stacy, WA 45798  36 vm       PM   \n",
       "4  23012 Munoz Drive Suite 337\\nNew Cynthia, TX 5...  20 IE       AM   \n",
       "\n",
       "                                        Browser Info  \\\n",
       "0  Opera/9.56.(X11; Linux x86_64; sl-SI) Presto/2...   \n",
       "1  Opera/8.93.(Windows 98; Win 9x 4.90; en-US) Pr...   \n",
       "2  Mozilla/5.0 (compatible; MSIE 9.0; Windows NT ...   \n",
       "3  Mozilla/5.0 (Macintosh; Intel Mac OS X 10_8_0 ...   \n",
       "4  Opera/9.58.(X11; Linux x86_64; it-IT) Presto/2...   \n",
       "\n",
       "                           Company       Credit Card CC Exp Date  \\\n",
       "0                  Martinez-Herman  6011929061123406       02/20   \n",
       "1  Fletcher, Richards and Whitaker  3337758169645356       11/18   \n",
       "2       Simpson, Williams and Pham      675957666125       08/19   \n",
       "3  Williams, Marshall and Buchanan  6011578504430710       02/24   \n",
       "4        Brown, Watson and Andrews  6011456623207998       10/25   \n",
       "\n",
       "   CC Security Code                  CC Provider  \\\n",
       "0               900                 JCB 16 digit   \n",
       "1               561                   Mastercard   \n",
       "2               699                 JCB 16 digit   \n",
       "3               384                     Discover   \n",
       "4               678  Diners Club / Carte Blanche   \n",
       "\n",
       "                            Email                                     Job  \\\n",
       "0               pdunlap@yahoo.com  Scientist, product/process development   \n",
       "1              anthony41@reed.com                       Drilling engineer   \n",
       "2  amymiller@morales-harrison.com                Customer service manager   \n",
       "3     brent16@olson-robinson.info                       Drilling engineer   \n",
       "4     christopherwright@gmail.com                             Fine artist   \n",
       "\n",
       "        IP Address Language  Purchase Price  \n",
       "0  149.146.147.205       el           98.14  \n",
       "1     15.160.41.51       fr           70.73  \n",
       "2   132.207.160.22       de            0.95  \n",
       "3     30.250.74.19       es           78.04  \n",
       "4     24.140.33.94       es           77.82  "
      ]
     },
     "execution_count": 238,
     "metadata": {},
     "output_type": "execute_result"
    }
   ],
   "source": [
    "df_walmart=pd.read_csv(r'.\\Datasets\\walmart_purchase_data.csv')\n",
    "purchase_price_mean=df_walmart['Purchase Price'].mean()\n",
    "print(\"average Purchase Price\",purchase_price_mean)\n",
    "df_walmart.head()\n"
   ]
  },
  {
   "cell_type": "markdown",
   "id": "238a2bde",
   "metadata": {},
   "source": [
    "b. What were the highest and lowest purchase prices?"
   ]
  },
  {
   "cell_type": "code",
   "execution_count": 239,
   "id": "89a30bd3",
   "metadata": {},
   "outputs": [
    {
     "name": "stdout",
     "output_type": "stream",
     "text": [
      "Highest Price : 99.99 \n",
      "Lowest Price : 0.0\n"
     ]
    }
   ],
   "source": [
    "purchase_price_max=df_walmart['Purchase Price'].max()\n",
    "purchase_price_min=df_walmart['Purchase Price'].min()\n",
    "print(f'Highest Price : {purchase_price_max} \\nLowest Price : {purchase_price_min}')"
   ]
  },
  {
   "cell_type": "markdown",
   "id": "9337e10f",
   "metadata": {},
   "source": [
    "c. How many people have English 'en' as their Language of choice on the website?"
   ]
  },
  {
   "cell_type": "code",
   "execution_count": 240,
   "id": "801b0f7e",
   "metadata": {},
   "outputs": [
    {
     "data": {
      "text/plain": [
       "15372"
      ]
     },
     "execution_count": 240,
     "metadata": {},
     "output_type": "execute_result"
    }
   ],
   "source": [
    "df_walmart[df_walmart['Language']=='en'].count().sum()"
   ]
  },
  {
   "cell_type": "markdown",
   "id": "398adef3",
   "metadata": {},
   "source": [
    "d. What is the email of the person with the following Credit Card Number:\n",
    "4926535242672853"
   ]
  },
  {
   "cell_type": "code",
   "execution_count": 241,
   "id": "925bf5a9",
   "metadata": {},
   "outputs": [
    {
     "name": "stdout",
     "output_type": "stream",
     "text": [
      "1234    bondellen@williams-garza.com\n",
      "Name: Email, dtype: object\n"
     ]
    }
   ],
   "source": [
    "print(df_walmart[df_walmart['Credit Card']==4926535242672853]['Email'])"
   ]
  },
  {
   "cell_type": "markdown",
   "id": "2a2c6fc2",
   "metadata": {},
   "source": [
    "e. Someone made a purchase that came from Lot: \"90 WT\" , what was the Purchase\n",
    "Price for this transaction?"
   ]
  },
  {
   "cell_type": "code",
   "execution_count": 242,
   "id": "11b3a435",
   "metadata": {},
   "outputs": [
    {
     "name": "stdout",
     "output_type": "stream",
     "text": [
      "513    75.1\n",
      "Name: Purchase Price, dtype: float64\n"
     ]
    }
   ],
   "source": [
    "print(df_walmart[df_walmart['Lot']==\"90 WT\"]['Purchase Price'])"
   ]
  },
  {
   "cell_type": "markdown",
   "id": "f393bf65",
   "metadata": {},
   "source": [
    "f. How many people have American Express as their Credit Card Provider and made\n",
    "a purchase above $95 ?"
   ]
  },
  {
   "cell_type": "code",
   "execution_count": 243,
   "id": "ec83d2be",
   "metadata": {},
   "outputs": [
    {
     "name": "stdout",
     "output_type": "stream",
     "text": [
      "39\n"
     ]
    }
   ],
   "source": [
    "print(df_walmart[(df_walmart['CC Provider']==\"American Express\") & (df_walmart['Purchase Price']>=95.0)]['Purchase Price'].count().sum())"
   ]
  },
  {
   "cell_type": "markdown",
   "id": "9337d12b",
   "metadata": {},
   "source": [
    "g. How many people have a credit card that expires in 2025?"
   ]
  },
  {
   "cell_type": "code",
   "execution_count": 244,
   "id": "ae9d237f",
   "metadata": {},
   "outputs": [
    {
     "data": {
      "text/plain": [
       "14462"
      ]
     },
     "execution_count": 244,
     "metadata": {},
     "output_type": "execute_result"
    }
   ],
   "source": [
    "df_walmart[df_walmart['CC Exp Date'].str.contains('/25')].count().sum()"
   ]
  },
  {
   "cell_type": "markdown",
   "id": "be0b9d7c",
   "metadata": {},
   "source": [
    "h. What are the top 5 most popular email providers/hosts (e.g. gmail.com, yahoo.com,\n",
    "etc...) ?"
   ]
  },
  {
   "cell_type": "code",
   "execution_count": 245,
   "id": "49fd4bdf",
   "metadata": {},
   "outputs": [
    {
     "name": "stdout",
     "output_type": "stream",
     "text": [
      "hotmail.com     1638\n",
      "yahoo.com       1616\n",
      "gmail.com       1605\n",
      "smith.com         42\n",
      "williams.com      37\n",
      "Name: Email_Provider, dtype: int64\n"
     ]
    }
   ],
   "source": [
    "df_walmart['Email_Provider']=df_walmart['Email'].map(lambda email: email.split(\"@\")[-1])\n",
    "\n",
    "value_count=df_walmart['Email_Provider'].value_counts(ascending=False)\n",
    "print(value_count[:5])\n"
   ]
  },
  {
   "cell_type": "markdown",
   "id": "836bc0d0",
   "metadata": {},
   "source": [
    "i. What are the 5 most common Job Titles?"
   ]
  },
  {
   "cell_type": "code",
   "execution_count": 246,
   "id": "9fa3890d",
   "metadata": {},
   "outputs": [
    {
     "name": "stdout",
     "output_type": "stream",
     "text": [
      "Interior and spatial designer        31\n",
      "Lawyer                               30\n",
      "Social researcher                    28\n",
      "Purchasing manager                   27\n",
      "Research officer, political party    27\n",
      "Name: Job, dtype: int64\n"
     ]
    }
   ],
   "source": [
    "job_value_count=df_walmart['Job'].value_counts(ascending=False)\n",
    "print(job_value_count[:5])\n"
   ]
  },
  {
   "cell_type": "markdown",
   "id": "f8657fa9",
   "metadata": {},
   "source": [
    "j. How many people made the purchase during morning and evening time?"
   ]
  },
  {
   "cell_type": "code",
   "execution_count": 247,
   "id": "78c87f1e",
   "metadata": {},
   "outputs": [
    {
     "data": {
      "text/plain": [
       "PM    5068\n",
       "AM    4932\n",
       "Name: AM or PM, dtype: int64"
      ]
     },
     "execution_count": 247,
     "metadata": {},
     "output_type": "execute_result"
    }
   ],
   "source": [
    "purchase_time_value_count=df_walmart['AM or PM'].value_counts(ascending=False)\n",
    "purchase_time_value_count"
   ]
  }
 ],
 "metadata": {
  "kernelspec": {
   "display_name": "base",
   "language": "python",
   "name": "python3"
  },
  "language_info": {
   "codemirror_mode": {
    "name": "ipython",
    "version": 3
   },
   "file_extension": ".py",
   "mimetype": "text/x-python",
   "name": "python",
   "nbconvert_exporter": "python",
   "pygments_lexer": "ipython3",
   "version": "3.8.5"
  }
 },
 "nbformat": 4,
 "nbformat_minor": 5
}
