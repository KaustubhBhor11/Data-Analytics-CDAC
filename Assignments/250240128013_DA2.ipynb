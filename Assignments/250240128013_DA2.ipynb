{
 "cells": [
  {
   "cell_type": "code",
   "execution_count": 162,
   "id": "1a202f76",
   "metadata": {},
   "outputs": [],
   "source": [
    "import pandas as pd\n",
    "import numpy as np\n",
    "import warnings\n",
    "warnings.filterwarnings(\"ignore\")"
   ]
  },
  {
   "cell_type": "markdown",
   "id": "58aa1206",
   "metadata": {},
   "source": [
    "#### 1Write a Pandas program to create and display a one-dimensional array-like object containing an array of data using Pandas module."
   ]
  },
  {
   "cell_type": "code",
   "execution_count": 3,
   "id": "e967de67",
   "metadata": {},
   "outputs": [
    {
     "data": {
      "text/html": [
       "<div>\n",
       "<style scoped>\n",
       "    .dataframe tbody tr th:only-of-type {\n",
       "        vertical-align: middle;\n",
       "    }\n",
       "\n",
       "    .dataframe tbody tr th {\n",
       "        vertical-align: top;\n",
       "    }\n",
       "\n",
       "    .dataframe thead th {\n",
       "        text-align: right;\n",
       "    }\n",
       "</style>\n",
       "<table border=\"1\" class=\"dataframe\">\n",
       "  <thead>\n",
       "    <tr style=\"text-align: right;\">\n",
       "      <th></th>\n",
       "      <th>0</th>\n",
       "      <th>1</th>\n",
       "      <th>2</th>\n",
       "    </tr>\n",
       "  </thead>\n",
       "  <tbody>\n",
       "    <tr>\n",
       "      <th>0</th>\n",
       "      <td>1</td>\n",
       "      <td>2</td>\n",
       "      <td>3</td>\n",
       "    </tr>\n",
       "    <tr>\n",
       "      <th>1</th>\n",
       "      <td>4</td>\n",
       "      <td>5</td>\n",
       "      <td>6</td>\n",
       "    </tr>\n",
       "    <tr>\n",
       "      <th>2</th>\n",
       "      <td>7</td>\n",
       "      <td>8</td>\n",
       "      <td>9</td>\n",
       "    </tr>\n",
       "  </tbody>\n",
       "</table>\n",
       "</div>"
      ],
      "text/plain": [
       "   0  1  2\n",
       "0  1  2  3\n",
       "1  4  5  6\n",
       "2  7  8  9"
      ]
     },
     "execution_count": 3,
     "metadata": {},
     "output_type": "execute_result"
    }
   ],
   "source": [
    "arr = pd.DataFrame([[1, 2, 3], [4, 5, 6], [7, 8, 9]])\n",
    "arr"
   ]
  },
  {
   "cell_type": "markdown",
   "id": "5b6aaa67",
   "metadata": {},
   "source": [
    "#### 2. Write a Pandas program to convert a Panda module Series to Python list and it's type.\n"
   ]
  },
  {
   "cell_type": "code",
   "execution_count": 4,
   "id": "070748d9",
   "metadata": {},
   "outputs": [
    {
     "name": "stdout",
     "output_type": "stream",
     "text": [
      "<class 'pandas.core.series.Series'>\n",
      "<class 'list'>\n"
     ]
    }
   ],
   "source": [
    "print(type(pd.Series([1,2,3,4,56,5,56])))\n",
    "\n",
    "print(type(list(pd.Series([1,2,3,4,56,5,56]))))"
   ]
  },
  {
   "cell_type": "markdown",
   "id": "5cc40491",
   "metadata": {},
   "source": [
    "#### 3. Write a Pandas program to add, subtract, multiple and divide two Pandas Series."
   ]
  },
  {
   "cell_type": "code",
   "execution_count": 5,
   "id": "26769192",
   "metadata": {},
   "outputs": [
    {
     "name": "stdout",
     "output_type": "stream",
     "text": [
      "\n",
      "Addition \n",
      " 0    235\n",
      "1     58\n",
      "2     59\n",
      "3     47\n",
      "4    102\n",
      "5     62\n",
      "6     13\n",
      "7    574\n",
      "8     46\n",
      "dtype: int64\n",
      "\n",
      "Subtract \n",
      " 0   -233\n",
      "1    -54\n",
      "2    -53\n",
      "3     43\n",
      "4    -94\n",
      "5    -50\n",
      "6      1\n",
      "7   -560\n",
      "8     22\n",
      "dtype: int64\n",
      "\n",
      "Multiply \n",
      " 0     234\n",
      "1     112\n",
      "2     168\n",
      "3      90\n",
      "4     392\n",
      "5     336\n",
      "6      42\n",
      "7    3969\n",
      "8     408\n",
      "dtype: int64\n",
      "\n",
      "Divide \n",
      " 0     0.004274\n",
      "1     0.035714\n",
      "2     0.053571\n",
      "3    22.500000\n",
      "4     0.040816\n",
      "5     0.107143\n",
      "6     1.166667\n",
      "7     0.012346\n",
      "8     2.833333\n",
      "dtype: float64\n"
     ]
    }
   ],
   "source": [
    "ser1=pd.Series([1,2,3,45,4,6,7,7,34])\n",
    "ser2=pd.Series([234,56,56,2,98,56,6,567,12])\n",
    "\n",
    "print(\"\\nAddition \\n\",ser1+ser2)\n",
    "print(\"\\nSubtract \\n\",ser1-ser2)\n",
    "print(\"\\nMultiply \\n\",ser1*ser2)\n",
    "print(\"\\nDivide \\n\",ser1/ser2)"
   ]
  },
  {
   "cell_type": "markdown",
   "id": "6ea1d90f",
   "metadata": {},
   "source": [
    "#### 4. Write a Pandas program to compare the elements of the two Pandas Series. Sample Series: [2, 4, 6, 8, 10], [1, 3, 5, 7, 10]\n"
   ]
  },
  {
   "cell_type": "code",
   "execution_count": 6,
   "id": "e737cf09",
   "metadata": {},
   "outputs": [
    {
     "data": {
      "text/plain": [
       "0     True\n",
       "1    False\n",
       "2    False\n",
       "3    False\n",
       "4    False\n",
       "5    False\n",
       "6    False\n",
       "7    False\n",
       "8    False\n",
       "dtype: bool"
      ]
     },
     "execution_count": 6,
     "metadata": {},
     "output_type": "execute_result"
    }
   ],
   "source": [
    "ser1=pd.Series([1,2,3,45,4,6,7,7,34])\n",
    "ser2=pd.Series([1,56,56,2,98,56,6,567,12])\n",
    "ser1==ser2"
   ]
  },
  {
   "cell_type": "markdown",
   "id": "1a1456ec",
   "metadata": {},
   "source": [
    "#### 5. Write a Pandas program to convert a dictionary to a Pandas series.\n"
   ]
  },
  {
   "cell_type": "code",
   "execution_count": 7,
   "id": "5950e728",
   "metadata": {},
   "outputs": [
    {
     "name": "stdout",
     "output_type": "stream",
     "text": [
      "Original dictionary:\n",
      "{'a': 100, 'b': 200, 'c': 300, 'd': 400, 'e': 800}\n",
      "\n",
      "Converted series:\n"
     ]
    },
    {
     "data": {
      "text/plain": [
       "a    100\n",
       "b    200\n",
       "c    300\n",
       "d    400\n",
       "e    800\n",
       "dtype: int64"
      ]
     },
     "execution_count": 7,
     "metadata": {},
     "output_type": "execute_result"
    }
   ],
   "source": [
    "dict1={'a': 100, 'b': 200, 'c': 300, 'd': 400, 'e': 800}\n",
    "df=pd.Series(dict1)\n",
    "print(\"Original dictionary:\")\n",
    "print(dict1)\n",
    "print(\"\\nConverted series:\")\n",
    "df"
   ]
  },
  {
   "cell_type": "markdown",
   "id": "cafaa9a0",
   "metadata": {},
   "source": [
    "6. Write a Pandas program to convert a NumPy array to a Pandas series."
   ]
  },
  {
   "cell_type": "code",
   "execution_count": 8,
   "id": "8186c5c9",
   "metadata": {},
   "outputs": [
    {
     "name": "stdout",
     "output_type": "stream",
     "text": [
      "NumPy array:\n",
      " [10, 20, 30, 40, 50]\n",
      "\n",
      "Series :\n",
      " 0    10\n",
      "1    20\n",
      "2    30\n",
      "3    40\n",
      "4    50\n",
      "dtype: int32\n"
     ]
    }
   ],
   "source": [
    "lst=[10,20,30,40,50]\n",
    "print(\"NumPy array:\\n\",lst)\n",
    "print(\"\\nSeries :\\n\",pd.Series(np.array(lst)))\n"
   ]
  },
  {
   "cell_type": "markdown",
   "id": "11489c54",
   "metadata": {},
   "source": [
    "7. Write a Pandas program to change the data type of given a column or a\n",
    "Series."
   ]
  },
  {
   "cell_type": "code",
   "execution_count": 9,
   "id": "7cf6b234",
   "metadata": {},
   "outputs": [
    {
     "name": "stdout",
     "output_type": "stream",
     "text": [
      "Original Data Series:\n",
      " 0       100\n",
      "1       200\n",
      "2    python\n",
      "3    300.12\n",
      "4       400\n",
      "dtype: object\n",
      "\n",
      "Change the said data type to numeric:\n",
      " 0    100.00\n",
      "1    200.00\n",
      "2       NaN\n",
      "3    300.12\n",
      "4    400.00\n",
      "dtype: float64\n"
     ]
    }
   ],
   "source": [
    "lst=[100,200,'python',300.12,400]\n",
    "df=pd.Series(lst)\n",
    "print(\"Original Data Series:\\n\",df)\n",
    "\n",
    "df=df.map(lambda x: x if isinstance(x,(float,int)) else np.nan)\n",
    "print(\"\\nChange the said data type to numeric:\\n\",df)\n"
   ]
  },
  {
   "cell_type": "markdown",
   "id": "acbae583",
   "metadata": {},
   "source": [
    "8. Write a Pandas program to convert the first column of a DataFrame as a Series."
   ]
  },
  {
   "cell_type": "code",
   "execution_count": 10,
   "id": "b0f6343d",
   "metadata": {},
   "outputs": [
    {
     "name": "stdout",
     "output_type": "stream",
     "text": [
      "Original DataFrame\n",
      "    col1  col2  col3\n",
      "0     1     4     7\n",
      "1     2     5     5\n",
      "2     3     6     8\n",
      "3     4     9    12\n",
      "4     7     5     1\n",
      "5    11     0    11\n",
      "\n",
      "1st column as a Series:\n",
      " 0     1\n",
      "1     2\n",
      "2     3\n",
      "3     4\n",
      "4     7\n",
      "5    11\n",
      "Name: col1, dtype: int64\n"
     ]
    },
    {
     "data": {
      "text/plain": [
       "pandas.core.series.Series"
      ]
     },
     "execution_count": 10,
     "metadata": {},
     "output_type": "execute_result"
    }
   ],
   "source": [
    "dict1=data = {'col1': [1, 2, 3, 4, 7, 11],\n",
    "        'col2': [4, 5, 6, 9, 5, 0],\n",
    "        'col3': [7, 5, 8, 12, 1, 11]}\n",
    "\n",
    "df= pd.DataFrame(dict1)\n",
    "ser1=pd.Series(df.iloc[:,0])\n",
    "print(\"Original DataFrame\\n\",df)\n",
    "print(\"\\n1st column as a Series:\\n\",ser1)\n",
    "type(ser1)"
   ]
  },
  {
   "cell_type": "markdown",
   "id": "6c3c75b7",
   "metadata": {},
   "source": [
    "9. Write a Pandas program to convert a given Series to an array."
   ]
  },
  {
   "cell_type": "code",
   "execution_count": 14,
   "id": "f506ef46",
   "metadata": {},
   "outputs": [
    {
     "name": "stdout",
     "output_type": "stream",
     "text": [
      "[100 200 'python' 300.12 400]\n"
     ]
    },
    {
     "data": {
      "text/plain": [
       "numpy.ndarray"
      ]
     },
     "execution_count": 14,
     "metadata": {},
     "output_type": "execute_result"
    }
   ],
   "source": [
    "data = pd.Series([100, 200, 'python', 300.12, 400])\n",
    "np_arr=np.array(data)\n",
    "print(np_arr)\n",
    "type(np_arr)"
   ]
  },
  {
   "cell_type": "markdown",
   "id": "b7fb5429",
   "metadata": {},
   "source": [
    "10. Write a Pandas program to convert Series of lists to one Series."
   ]
  },
  {
   "cell_type": "code",
   "execution_count": 21,
   "id": "0ab68840",
   "metadata": {},
   "outputs": [
    {
     "name": "stdout",
     "output_type": "stream",
     "text": [
      "Original Series of list\n",
      "0    [Red, Green, White]\n",
      "1           [Red, Black]\n",
      "2               [Yellow]\n",
      "dtype: object\n",
      "\n",
      "One Series\n",
      "0       Red\n",
      "0     Green\n",
      "0     White\n",
      "1       Red\n",
      "1     Black\n",
      "2    Yellow\n",
      "dtype: object\n"
     ]
    }
   ],
   "source": [
    "original_series = pd.Series([['Red', 'Green', 'White'], ['Red', 'Black'], ['Yellow']])\n",
    "\n",
    "print(\"Original Series of list\")\n",
    "print(original_series)\n",
    "\n",
    "one_series = original_series.explode()\n",
    "print(\"\\nOne Series\")\n",
    "print(one_series)"
   ]
  },
  {
   "cell_type": "markdown",
   "id": "d28a65b0",
   "metadata": {},
   "source": [
    "11. Write a Pandas program to sort a given Series."
   ]
  },
  {
   "cell_type": "code",
   "execution_count": 32,
   "id": "745c812f",
   "metadata": {},
   "outputs": [
    {
     "name": "stdout",
     "output_type": "stream",
     "text": [
      "Original Data Series:\n",
      " 0       100\n",
      "1       200\n",
      "2    python\n",
      "3    300.12\n",
      "4       400\n",
      "dtype: object\n"
     ]
    },
    {
     "data": {
      "text/plain": [
       "0       100\n",
       "1       200\n",
       "3    300.12\n",
       "4       400\n",
       "2    python\n",
       "dtype: object"
      ]
     },
     "execution_count": 32,
     "metadata": {},
     "output_type": "execute_result"
    }
   ],
   "source": [
    "data = pd.Series([100, 200, 'python', 300.12, 400])\n",
    "print(\"Original Data Series:\\n\",data)\n",
    "sorted_data = data.sort_values(key=lambda x: x.astype(str).str.lower())\n",
    "sorted_data"
   ]
  },
  {
   "cell_type": "markdown",
   "id": "897e23e2",
   "metadata": {},
   "source": [
    "12. Write a Pandas program to add some data to an existing Series."
   ]
  },
  {
   "cell_type": "code",
   "execution_count": 39,
   "id": "022e93c4",
   "metadata": {},
   "outputs": [
    {
     "name": "stdout",
     "output_type": "stream",
     "text": [
      "Original Data Series:\n",
      " 0       100\n",
      "1       200\n",
      "2    python\n",
      "3    300.12\n",
      "4       400\n",
      "dtype: object\n"
     ]
    },
    {
     "data": {
      "text/plain": [
       "0       100\n",
       "1       200\n",
       "2    python\n",
       "3    300.12\n",
       "4       400\n",
       "0       500\n",
       "1       php\n",
       "dtype: object"
      ]
     },
     "execution_count": 39,
     "metadata": {},
     "output_type": "execute_result"
    }
   ],
   "source": [
    "data = pd.Series([100, 200, 'python', 300.12, 400])\n",
    "print(\"Original Data Series:\\n\",data)\n",
    "pd.concat([data,pd.Series([500,'php'])])\n"
   ]
  },
  {
   "cell_type": "markdown",
   "id": "592a3647",
   "metadata": {},
   "source": [
    "13. Write a Pandas program to create a subset of a given series based on value and\n",
    "condition."
   ]
  },
  {
   "cell_type": "code",
   "execution_count": 47,
   "id": "d420ff89",
   "metadata": {},
   "outputs": [
    {
     "name": "stdout",
     "output_type": "stream",
     "text": [
      "Original Data Series:\n",
      " 0      0\n",
      "1      1\n",
      "2      2\n",
      "3      3\n",
      "4      4\n",
      "5      5\n",
      "6      6\n",
      "7      7\n",
      "8      8\n",
      "9      9\n",
      "10    10\n",
      "dtype: int32\n",
      "\n",
      "0    0\n",
      "1    1\n",
      "2    2\n",
      "3    3\n",
      "4    4\n",
      "5    5\n",
      "dtype: int32\n"
     ]
    }
   ],
   "source": [
    "data=pd.Series(np.arange(11))\n",
    "print(\"Original Data Series:\\n\",data)\n",
    "print()\n",
    "print(data[:6])"
   ]
  },
  {
   "cell_type": "markdown",
   "id": "56d16ce5",
   "metadata": {},
   "source": [
    "14. Write a Pandas program to change the order of index of a given series."
   ]
  },
  {
   "cell_type": "code",
   "execution_count": 14,
   "id": "c1fc4127",
   "metadata": {},
   "outputs": [
    {
     "name": "stdout",
     "output_type": "stream",
     "text": [
      "Original Data Series: \n",
      " A    1\n",
      "B    2\n",
      "C    3\n",
      "D    4\n",
      "E    5\n",
      "dtype: int64\n",
      "\n",
      "Data Series after changing the order of index:\n",
      " B    2\n",
      "A    1\n",
      "C    3\n",
      "D    4\n",
      "E    5\n",
      "dtype: int64\n"
     ]
    }
   ],
   "source": [
    "ser1=pd.Series([1,2,3,4,5],index=[\"A\",'B','C','D','E'])\n",
    "print(\"Original Data Series: \\n\",ser1)\n",
    "re_indexed=ser1.reindex(index=[\"B\",'A','C','D','E'])\n",
    "print(\"\\nData Series after changing the order of index:\\n\",re_indexed)"
   ]
  },
  {
   "cell_type": "markdown",
   "id": "f1749fde",
   "metadata": {},
   "source": [
    "15. Write a Pandas program to create the mean and standard deviation of the data of a\n",
    "given Series."
   ]
  },
  {
   "cell_type": "code",
   "execution_count": 17,
   "id": "89b66890",
   "metadata": {},
   "outputs": [
    {
     "name": "stdout",
     "output_type": "stream",
     "text": [
      "Original Data Series:\n",
      " 0     1\n",
      "1     2\n",
      "2     3\n",
      "3     4\n",
      "4     5\n",
      "5     6\n",
      "6     7\n",
      "7     8\n",
      "8     9\n",
      "9     5\n",
      "10    3\n",
      "dtype: int64\n",
      "\n",
      "Mean of the said Data Series:\n",
      " 4.818181818181818\n",
      "\n",
      "Standard deviation of the said Data Series:\n",
      " 2.522624895547565\n"
     ]
    }
   ],
   "source": [
    "ser1=pd.Series([1,2,3,4,5,6,7,8,9,5,3])\n",
    "mean=ser1.mean()\n",
    "std=ser1.std()\n",
    "print(\"Original Data Series:\\n\",ser1)\n",
    "print(\"\\nMean of the said Data Series:\\n\",mean)\n",
    "print(\"\\nStandard deviation of the said Data Series:\\n\",std)"
   ]
  },
  {
   "cell_type": "markdown",
   "id": "b1cfbde6",
   "metadata": {},
   "source": [
    "16. Write a Pandas program to get the items of a given series not present in another given\n",
    "series."
   ]
  },
  {
   "cell_type": "code",
   "execution_count": 24,
   "id": "a4cb2db2",
   "metadata": {},
   "outputs": [
    {
     "name": "stdout",
     "output_type": "stream",
     "text": [
      "Original Series 1:\n",
      " 0    1\n",
      "1    2\n",
      "2    3\n",
      "3    4\n",
      "4    5\n",
      "dtype: int64\n",
      "\n",
      "Original Series 2:\n",
      " 0     2\n",
      "1     4\n",
      "2     6\n",
      "3     8\n",
      "4    10\n",
      "dtype: int64\n",
      "\n",
      "Items of sr1 not present in sr2:\n",
      " 0    1\n",
      "2    3\n",
      "4    5\n",
      "dtype: int64\n"
     ]
    }
   ],
   "source": [
    "ser1=pd.Series([1,2,3,4,5])\n",
    "ser2=pd.Series([2,4,6,8,10])\n",
    "ser=ser1[~ser1.isin(ser2)]\n",
    "print(\"Original Series 1:\\n\",ser1)\n",
    "print(\"\\nOriginal Series 2:\\n\",ser2)\n",
    "print(\"\\nItems of sr1 not present in sr2:\\n\",ser)"
   ]
  },
  {
   "cell_type": "markdown",
   "id": "0f680bc8",
   "metadata": {},
   "source": [
    "17. Write a Pandas program to get the items which are not common of two given series."
   ]
  },
  {
   "cell_type": "code",
   "execution_count": 33,
   "id": "03b68d43",
   "metadata": {},
   "outputs": [
    {
     "name": "stdout",
     "output_type": "stream",
     "text": [
      "Original Series 1:\n",
      " 0    1\n",
      "1    2\n",
      "2    3\n",
      "3    4\n",
      "4    5\n",
      "dtype: int64\n",
      "\n",
      "Original Series 2:\n",
      " 0     2\n",
      "1     4\n",
      "2     6\n",
      "3     8\n",
      "4    10\n",
      "dtype: int64\n",
      "\n",
      "Items of sr1 not present in sr2:\n",
      " 0     1\n",
      "2     3\n",
      "4     5\n",
      "2     6\n",
      "3     8\n",
      "4    10\n",
      "dtype: int64\n"
     ]
    }
   ],
   "source": [
    "ser1=pd.Series([1,2,3,4,5])\n",
    "ser2=pd.Series([2,4,6,8,10])\n",
    "ser=ser2[ser1.isin(ser2)]\n",
    "not_common = pd.concat([ser1[~ser1.isin(ser2)], ser2[~ser2.isin(ser1)]])\n",
    "print(\"Original Series 1:\\n\",ser1)\n",
    "print(\"\\nOriginal Series 2:\\n\",ser2)\n",
    "print(\"\\nItems of sr1 not present in sr2:\\n\",not_common)"
   ]
  },
  {
   "cell_type": "markdown",
   "id": "bfdcec12",
   "metadata": {},
   "source": [
    "18. Write a Pandas program to compute the minimum, 25th percentile, median, 75th, and\n",
    "maximum of a given series."
   ]
  },
  {
   "cell_type": "code",
   "execution_count": 41,
   "id": "86f5a6af",
   "metadata": {},
   "outputs": [
    {
     "name": "stdout",
     "output_type": "stream",
     "text": [
      "Original Series:\n",
      " 0     0.48480\n",
      "1    -0.05073\n",
      "2    -0.07038\n",
      "3    -0.08558\n",
      "4     1.96390\n",
      "5    -0.44335\n",
      "6    -0.34107\n",
      "7    -1.61102\n",
      "8     1.02373\n",
      "9     0.19781\n",
      "10    0.57729\n",
      "11   -0.83017\n",
      "12    0.05682\n",
      "13    0.24628\n",
      "14   -1.46939\n",
      "15    0.19893\n",
      "16   -0.01028\n",
      "17    0.43367\n",
      "18   -1.03862\n",
      "19    0.94104\n",
      "dtype: float64\n",
      "\n",
      "Minimum, 25th percentile, median, 75th, and maximum of a given series:\n",
      " -1.61102 -0.36663999999999997 , 0.023270000000000002 0.44645250000000003 1.9639\n"
     ]
    }
   ],
   "source": [
    "ser=np.round(np.random.randn(20),5)\n",
    "ser=pd.Series(ser)\n",
    "print(\"Original Series:\\n\",ser)\n",
    "print(f\"\\nMinimum, 25th percentile, median, 75th, and maximum of a given series:\\n {ser.min()} {ser.quantile(0.25)} , {ser.median()} {ser.quantile(0.75)} {ser.max()}\")"
   ]
  },
  {
   "cell_type": "markdown",
   "id": "550446f0",
   "metadata": {},
   "source": [
    "19. Write a Pandas program to calculate the frequency counts of each unique value of a\n",
    "given series."
   ]
  },
  {
   "cell_type": "code",
   "execution_count": 49,
   "id": "b8c160b2",
   "metadata": {},
   "outputs": [
    {
     "name": "stdout",
     "output_type": "stream",
     "text": [
      "Sample Output:\n",
      " 0     15\n",
      "1     16\n",
      "2     11\n",
      "3     11\n",
      "4     37\n",
      "5     38\n",
      "6     34\n",
      "7     11\n",
      "8     28\n",
      "9     27\n",
      "10    32\n",
      "11    22\n",
      "12     9\n",
      "13     0\n",
      "14    28\n",
      "15    28\n",
      "16    28\n",
      "17    13\n",
      "18    20\n",
      "19    33\n",
      "20     8\n",
      "21    25\n",
      "22    24\n",
      "23    38\n",
      "24    33\n",
      "25    22\n",
      "26    19\n",
      "27     1\n",
      "28    22\n",
      "29    24\n",
      "30    17\n",
      "31    23\n",
      "32    29\n",
      "33     0\n",
      "34    19\n",
      "35     6\n",
      "36    26\n",
      "37     4\n",
      "38    28\n",
      "39    20\n",
      "dtype: int32\n",
      "\n",
      "Frequency of each unique value of the said series.\n",
      " 28    5\n",
      "11    3\n",
      "22    3\n",
      "38    2\n",
      "19    2\n",
      "24    2\n",
      "20    2\n",
      "0     2\n",
      "33    2\n",
      "15    1\n",
      "1     1\n",
      "4     1\n",
      "6     1\n",
      "8     1\n",
      "9     1\n",
      "34    1\n",
      "13    1\n",
      "27    1\n",
      "26    1\n",
      "17    1\n",
      "37    1\n",
      "32    1\n",
      "23    1\n",
      "29    1\n",
      "25    1\n",
      "16    1\n",
      "dtype: int64\n"
     ]
    }
   ],
   "source": [
    "ser1=pd.Series(np.random.randint(0,40,size=40))\n",
    "print(\"Sample Output:\\n\",ser1)\n",
    "print(\"\\nFrequency of each unique value of the said series.\\n\",ser1.value_counts())\n"
   ]
  },
  {
   "cell_type": "markdown",
   "id": "e365a42e",
   "metadata": {},
   "source": []
  },
  {
   "cell_type": "markdown",
   "id": "394ee5a1",
   "metadata": {},
   "source": [
    "20. Write a Pandas program to display most frequent value in a given series and replace\n",
    "everything else as 'Other' in the series."
   ]
  },
  {
   "cell_type": "code",
   "execution_count": 55,
   "id": "7e66af92",
   "metadata": {},
   "outputs": [
    {
     "name": "stdout",
     "output_type": "stream",
     "text": [
      "Original Series: \n",
      " 0     1\n",
      "1     1\n",
      "2     2\n",
      "3     2\n",
      "4     2\n",
      "5     2\n",
      "6     1\n",
      "7     1\n",
      "8     2\n",
      "9     1\n",
      "10    2\n",
      "11    2\n",
      "12    2\n",
      "13    1\n",
      "dtype: int32\n",
      "Frequency\n",
      " 2    8\n",
      "1    6\n",
      "dtype: int64\n",
      "\n",
      " Replaced Series with Other\n",
      " 0     Other\n",
      "1     Other\n",
      "2         2\n",
      "3         2\n",
      "4         2\n",
      "5         2\n",
      "6     Other\n",
      "7     Other\n",
      "8         2\n",
      "9     Other\n",
      "10        2\n",
      "11        2\n",
      "12        2\n",
      "13    Other\n",
      "dtype: object\n"
     ]
    }
   ],
   "source": [
    "ser1=pd.Series(np.random.randint(1,3,size=14))\n",
    "print(\"Original Series: \\n\",ser1)\n",
    "print(\"Frequency\\n\",ser1.value_counts())\n",
    "ser1=ser1.map(lambda x : x if x == ser1.mode()[0] else 'Other')\n",
    "print(\"\\n Replaced Series with Other\\n\",ser1)"
   ]
  },
  {
   "cell_type": "markdown",
   "id": "f92bfa80",
   "metadata": {},
   "source": [
    "21. Write a Pandas program to find the positions of numbers that are multiples of 5 of a given series."
   ]
  },
  {
   "cell_type": "code",
   "execution_count": 64,
   "id": "812191b7",
   "metadata": {},
   "outputs": [
    {
     "name": "stdout",
     "output_type": "stream",
     "text": [
      "Original Series: \n",
      " 0    5\n",
      "1    4\n",
      "2    5\n",
      "3    5\n",
      "4    4\n",
      "5    5\n",
      "6    4\n",
      "7    4\n",
      "8    4\n",
      "9    5\n",
      "dtype: int32\n",
      "Positions of numbers that are multiples of 5: Int64Index([0, 2, 3, 5, 9], dtype='int64')\n"
     ]
    }
   ],
   "source": [
    "ser1=pd.Series(np.random.randint(4,6,size=10))\n",
    "num_index=ser1[ser1 % 5 == 0].index\n",
    "print(\"Original Series: \\n\",ser1)\n",
    "print(\"Positions of numbers that are multiples of 5:\",num_index)"
   ]
  },
  {
   "cell_type": "markdown",
   "id": "43b82fd9",
   "metadata": {},
   "source": [
    "22. Write a Pandas program to extract items at given positions of a given series."
   ]
  },
  {
   "cell_type": "code",
   "execution_count": 73,
   "id": "8aa2b848",
   "metadata": {},
   "outputs": [
    {
     "name": "stdout",
     "output_type": "stream",
     "text": [
      "Original Series:\n",
      " 0     4\n",
      "1     0\n",
      "2     3\n",
      "3     5\n",
      "4     7\n",
      "5     1\n",
      "6     4\n",
      "7     1\n",
      "8     5\n",
      "9     8\n",
      "10    3\n",
      "11    3\n",
      "12    6\n",
      "13    0\n",
      "14    9\n",
      "15    6\n",
      "16    1\n",
      "17    0\n",
      "18    0\n",
      "19    5\n",
      "20    2\n",
      "21    8\n",
      "22    5\n",
      "23    0\n",
      "24    9\n",
      "dtype: int32\n",
      "Extract items at given positions of the said series:\n",
      " 0     4\n",
      "2     3\n",
      "6     4\n",
      "11    3\n",
      "21    8\n",
      "dtype: int32\n"
     ]
    }
   ],
   "source": [
    "ser1=pd.Series(np.random.randint(0,10,size=25))\n",
    "print(\"Original Series:\\n\",ser1)\n",
    "positions=[0,2,6,11,21]\n",
    "print(\"Extract items at given positions of the said series:\\n\",ser1.iloc[positions])"
   ]
  },
  {
   "cell_type": "markdown",
   "id": "fc17a4d3",
   "metadata": {},
   "source": [
    "23. Write a Pandas program to get the positions of items of a given series in another\n",
    "given series."
   ]
  },
  {
   "cell_type": "code",
   "execution_count": 85,
   "id": "13b66c0f",
   "metadata": {},
   "outputs": [
    {
     "name": "stdout",
     "output_type": "stream",
     "text": [
      "Original Series:\n",
      "0     1\n",
      "1     2\n",
      "2     3\n",
      "3     4\n",
      "4     5\n",
      "5     6\n",
      "6     7\n",
      "7     8\n",
      "8     9\n",
      "9    10\n",
      "dtype: int64\n",
      "0     1\n",
      "1     3\n",
      "2     5\n",
      "3     7\n",
      "4    10\n",
      "dtype: int64\n",
      "Positions of items of series2 in series1: [0, 2, 4, 6, 9]\n"
     ]
    }
   ],
   "source": [
    "ser1=pd.Series([1,2,3,4,5,6,7,8,9,10])\n",
    "ser2=pd.Series([1,3,5,7,10])\n",
    "print(f\"Original Series:\\n{ser1}\\n{ser2}\")\n",
    "print(\"Positions of items of series2 in series1:\",list(ser1[ser1.isin(ser2)].index))"
   ]
  },
  {
   "cell_type": "markdown",
   "id": "65b7c2e4",
   "metadata": {},
   "source": [
    "24. Write a Pandas program convert the first and last character of each word to upper\n",
    "case in each word of a given series."
   ]
  },
  {
   "cell_type": "code",
   "execution_count": 100,
   "id": "be61e1fe",
   "metadata": {},
   "outputs": [
    {
     "name": "stdout",
     "output_type": "stream",
     "text": [
      "Original Series:\n",
      " 0       Php\n",
      "1    Python\n",
      "2      Java\n",
      "3        C#\n",
      "dtype: object\n",
      "First and last character of each word to upper case:\n"
     ]
    },
    {
     "data": {
      "text/plain": [
       "0       PhP\n",
       "1    PythoN\n",
       "2      JavA\n",
       "3        C#\n",
       "dtype: object"
      ]
     },
     "execution_count": 100,
     "metadata": {},
     "output_type": "execute_result"
    }
   ],
   "source": [
    "ser=pd.Series(['Php','Python','Java',\"C#\"])\n",
    "print(\"Original Series:\\n\",ser)\n",
    "print(\"First and last character of each word to upper case:\")\n",
    "ser.str.capitalize().str[:-1]+ser.str[-1:].str.upper()\n"
   ]
  },
  {
   "cell_type": "markdown",
   "id": "c293027f",
   "metadata": {},
   "source": [
    "25. Write a Pandas program to calculate the number of characters in each word in a given\n",
    "series."
   ]
  },
  {
   "cell_type": "code",
   "execution_count": 105,
   "id": "d2cbfe98",
   "metadata": {},
   "outputs": [
    {
     "name": "stdout",
     "output_type": "stream",
     "text": [
      "Original Series:\n",
      " 0       Php\n",
      "1    Python\n",
      "2      Java\n",
      "3        C#\n",
      "dtype: object\n",
      "Number of characters in each word in the said series:\n"
     ]
    },
    {
     "data": {
      "text/plain": [
       "0    3\n",
       "1    6\n",
       "2    4\n",
       "3    2\n",
       "dtype: int64"
      ]
     },
     "execution_count": 105,
     "metadata": {},
     "output_type": "execute_result"
    }
   ],
   "source": [
    "ser=pd.Series(['Php','Python','Java',\"C#\"])\n",
    "print(\"Original Series:\\n\",ser)\n",
    "print(\"Number of characters in each word in the said series:\")\n",
    "ser.str.len()"
   ]
  },
  {
   "cell_type": "markdown",
   "id": "29223877",
   "metadata": {},
   "source": [
    "26. Write a Pandas program to compute difference of differences between consecutive\n",
    "numbers of a given series."
   ]
  },
  {
   "cell_type": "code",
   "execution_count": 117,
   "id": "1a0c2d58",
   "metadata": {},
   "outputs": [
    {
     "name": "stdout",
     "output_type": "stream",
     "text": [
      "Original Series:\n",
      " 0     1\n",
      "1     3\n",
      "2     5\n",
      "3     8\n",
      "4    10\n",
      "5    11\n",
      "6    15\n",
      "dtype: int64\n",
      "\n",
      "Difference of differences between consecutive numbers of the said series:\n",
      "[nan, 2.0, 2.0, 3.0, 2.0, 1.0, 4.0]\n",
      "[nan, nan, 0.0, 1.0, -1.0, -1.0, 3.0]\n"
     ]
    }
   ],
   "source": [
    "ser=pd.Series([1,3,5,8,10,11,15])\n",
    "test=ser.diff()\n",
    "print(\"Original Series:\\n\",ser)\n",
    "print(\"\\nDifference of differences between consecutive numbers of the said series:\")\n",
    "print(list(test))\n",
    "print(list(test.diff()))"
   ]
  },
  {
   "cell_type": "markdown",
   "id": "babed8d0",
   "metadata": {},
   "source": [
    "27. Write a Pandas program to convert a series of date strings to a timeseries."
   ]
  },
  {
   "cell_type": "code",
   "execution_count": 122,
   "id": "09fc0174",
   "metadata": {},
   "outputs": [
    {
     "name": "stdout",
     "output_type": "stream",
     "text": [
      "Original Series:\n",
      " 0         01 Jan 2015\n",
      "1          10-02-2016\n",
      "2            20180307\n",
      "3          2014/05/06\n",
      "4          2016-04-12\n",
      "5    2019-04-06T11:20\n",
      "dtype: object\n",
      "\n",
      "Series of date strings to a timeseries:\n",
      " 0   2015-01-01 00:00:00\n",
      "1   2016-10-02 00:00:00\n",
      "2   2018-03-07 00:00:00\n",
      "3   2014-05-06 00:00:00\n",
      "4   2016-04-12 00:00:00\n",
      "5   2019-04-06 11:20:00\n",
      "dtype: datetime64[ns]\n"
     ]
    }
   ],
   "source": [
    "ser=pd.Series(['01 Jan 2015','10-02-2016','20180307','2014/05/06','2016-04-12','2019-04-06T11:20'])\n",
    "print('Original Series:\\n',ser)\n",
    "print(\"\\nSeries of date strings to a timeseries:\\n\",pd.to_datetime(ser))"
   ]
  },
  {
   "cell_type": "markdown",
   "id": "c5f144ee",
   "metadata": {},
   "source": [
    "28. Write a Pandas program to get the day of month, day of year, week number and day\n",
    "of week from a given series of date strings."
   ]
  },
  {
   "cell_type": "code",
   "execution_count": 125,
   "id": "2bfc0078",
   "metadata": {},
   "outputs": [
    {
     "name": "stdout",
     "output_type": "stream",
     "text": [
      "Original Series:\n",
      " 0         01 Jan 2015\n",
      "1          10-02-2016\n",
      "2            20180307\n",
      "3          2014/05/06\n",
      "4          2016-04-12\n",
      "5    2019-04-06T11:20\n",
      "dtype: object\n",
      "\n",
      "Day of month:\n",
      " [1, 2, 7, 6, 12, 6]\n",
      "\n",
      "Day of year:\n",
      " [1, 276, 66, 126, 103, 96]\n",
      "\n",
      "Week number:\n",
      " [1, 39, 10, 19, 15, 14]\n",
      "\n",
      "Day of week:\n",
      " ['Thursday', 'Sunday', 'Wednesday', 'Tuesday', 'Tuesday', 'Saturday']\n"
     ]
    }
   ],
   "source": [
    "ser=pd.Series(['01 Jan 2015','10-02-2016','20180307','2014/05/06','2016-04-12','2019-04-06T11:20'])\n",
    "ser1=pd.to_datetime(ser)\n",
    "day_of_month = ser1.dt.day.tolist()\n",
    "day_of_year = ser1.dt.dayofyear.tolist()\n",
    "week_number = ser1.dt.isocalendar().week.tolist()\n",
    "day_of_week = ser1.dt.day_name().tolist()\n",
    "\n",
    "print(\"Original Series:\\n\", ser)\n",
    "print(\"\\nDay of month:\\n\", day_of_month)\n",
    "print(\"\\nDay of year:\\n\", day_of_year)\n",
    "print(\"\\nWeek number:\\n\", week_number)\n",
    "print(\"\\nDay of week:\\n\", day_of_week)\n"
   ]
  },
  {
   "cell_type": "markdown",
   "id": "ade5a5c9",
   "metadata": {},
   "source": [
    "29. Write a Pandas program to convert year-month string to dates adding a specified day of the month."
   ]
  },
  {
   "cell_type": "code",
   "execution_count": 130,
   "id": "1f1053ce",
   "metadata": {},
   "outputs": [
    {
     "name": "stdout",
     "output_type": "stream",
     "text": [
      "Original Series:\n",
      " 0    Jan 2015\n",
      "1    Feb 2016\n",
      "2    Mar 2017\n",
      "3    Apr 2018\n",
      "4    May 2019\n",
      "dtype: object\n",
      "\n",
      "New dates:\n",
      " 0   2015-01-11\n",
      "1   2016-02-11\n",
      "2   2017-03-11\n",
      "3   2018-04-11\n",
      "4   2019-05-11\n",
      "dtype: datetime64[ns]\n"
     ]
    }
   ],
   "source": [
    "ser=pd.Series(['Jan 2015','Feb 2016','Mar 2017','Apr 2018','May 2019'])\n",
    "new_dates = pd.to_datetime(ser) + pd.offsets.Day(11 - 1)\n",
    "print(\"Original Series:\\n\", ser)\n",
    "print(\"\\nNew dates:\\n\", new_dates)"
   ]
  },
  {
   "cell_type": "markdown",
   "id": "f2917f37",
   "metadata": {},
   "source": [
    "30. Write a Pandas program to filter words from a given series that contain atleast two vowels."
   ]
  },
  {
   "cell_type": "code",
   "execution_count": 135,
   "id": "9206c262",
   "metadata": {},
   "outputs": [
    {
     "name": "stdout",
     "output_type": "stream",
     "text": [
      "Original Series:\n",
      " 0       Red\n",
      "1     Green\n",
      "2    Orange\n",
      "3      Pink\n",
      "4    Yellow\n",
      "5     White\n",
      "dtype: object\n",
      "\n",
      "Filtered words:\n",
      " 1     Green\n",
      "2    Orange\n",
      "4    Yellow\n",
      "5     White\n",
      "dtype: object\n"
     ]
    }
   ],
   "source": [
    "ser = pd.Series(['Red', 'Green', 'Orange', 'Pink', 'Yellow', 'White'])\n",
    "\n",
    "def count_vowels(word):\n",
    "    vowels = set('aeiouAEIOU')\n",
    "    return sum(1 for char in word if char in vowels)\n",
    "\n",
    "filtered_words = ser[ser.apply(count_vowels) >= 2]\n",
    "\n",
    "print(\"Original Series:\\n\", ser)\n",
    "print(\"\\nFiltered words:\\n\", filtered_words)\n"
   ]
  },
  {
   "cell_type": "markdown",
   "id": "bc40bd3f",
   "metadata": {},
   "source": [
    "31. Write a Pandas program to compute the Euclidean distance between two given series. Euclidean distance"
   ]
  },
  {
   "cell_type": "code",
   "execution_count": 136,
   "id": "3f8188f9",
   "metadata": {},
   "outputs": [
    {
     "name": "stdout",
     "output_type": "stream",
     "text": [
      "Original series:\n",
      "0     1\n",
      "1     2\n",
      "2     3\n",
      "3     4\n",
      "4     5\n",
      "5     6\n",
      "6     7\n",
      "7     8\n",
      "8     9\n",
      "9    10\n",
      "dtype: int64\n",
      "0    11\n",
      "1     8\n",
      "2     7\n",
      "3     5\n",
      "4     6\n",
      "5     5\n",
      "6     3\n",
      "7     4\n",
      "8     7\n",
      "9     1\n",
      "dtype: int64\n",
      "\n",
      "Euclidean distance between two said series:\n",
      "16.492422502470642\n"
     ]
    }
   ],
   "source": [
    "import numpy as np\n",
    "import pandas as pd\n",
    "\n",
    "ser1 = pd.Series([1, 2, 3, 4, 5, 6, 7, 8, 9, 10])\n",
    "ser2 = pd.Series([11, 8, 7, 5, 6, 5, 3, 4, 7, 1])\n",
    "\n",
    "euclidean_distance = np.sqrt(np.sum((ser1 - ser2) ** 2))\n",
    "\n",
    "print(\"Original series:\")\n",
    "print(ser1)\n",
    "print(ser2)\n",
    "print(\"\\nEuclidean distance between two said series:\")\n",
    "print(euclidean_distance)"
   ]
  },
  {
   "cell_type": "markdown",
   "id": "ed89e5a9",
   "metadata": {},
   "source": [
    "32. Write a Pandas program to find the positions of the values neighboured by smaller values on both sides in a given series."
   ]
  },
  {
   "cell_type": "code",
   "execution_count": 146,
   "id": "5677f8e0",
   "metadata": {},
   "outputs": [
    {
     "name": "stdout",
     "output_type": "stream",
     "text": [
      "Original series:\n",
      "0    1\n",
      "1    8\n",
      "2    7\n",
      "3    5\n",
      "4    6\n",
      "5    5\n",
      "6    3\n",
      "7    4\n",
      "8    7\n",
      "9    1\n",
      "dtype: int64\n",
      "\n",
      "Positions of the values surrounded by smaller values on both sides:\n",
      "[1, 4, 8]\n"
     ]
    }
   ],
   "source": [
    "ser=pd.Series([1,8,7,5,6,5,3,4,7,1])\n",
    "ser.diff()\n",
    "positions = ser[(ser > ser.shift(1)) & (ser > ser.shift(-1))].index\n",
    "print(\"Original series:\")\n",
    "print(ser)\n",
    "print(\"\\nPositions of the values surrounded by smaller values on both sides:\")\n",
    "print(positions.tolist())\n"
   ]
  },
  {
   "cell_type": "markdown",
   "id": "d71a5841",
   "metadata": {},
   "source": [
    "33. Write a Pandas program to replace missing white spaces in a given string with the\n",
    "least frequent character."
   ]
  },
  {
   "cell_type": "code",
   "execution_count": 159,
   "id": "fb14cf0b",
   "metadata": {},
   "outputs": [
    {
     "name": "stdout",
     "output_type": "stream",
     "text": [
      "Original string:\n",
      "abc def abcdef icd\n",
      "\n",
      "String after replacing white spaces with the least frequent character:\n",
      "abcidefiabcdefiicd\n"
     ]
    }
   ],
   "source": [
    "str1 = \"abc def abcdef icd\"\n",
    "\n",
    "ser = pd.Series(list(str1))\n",
    "least_frequent_char = ser.value_counts().idxmin()\n",
    "ser = ser.replace(' ', least_frequent_char)\n",
    "result = ''.join(ser)\n",
    "\n",
    "print(\"Original string:\")\n",
    "print(str1)\n",
    "print(\"\\nString after replacing white spaces with the least frequent character:\")\n",
    "print(result)"
   ]
  },
  {
   "cell_type": "markdown",
   "id": "dd53ca3f",
   "metadata": {},
   "source": [
    "34. Write a Pandas program to compute the autocorrelations of a given numeric series."
   ]
  },
  {
   "cell_type": "code",
   "execution_count": 163,
   "id": "934417e0",
   "metadata": {},
   "outputs": [
    {
     "name": "stdout",
     "output_type": "stream",
     "text": [
      "Original series:\n",
      "0    -1.686349\n",
      "1    -0.487542\n",
      "2    -0.191571\n",
      "3    -0.061466\n",
      "4     3.414454\n",
      "5    -0.004184\n",
      "6    -0.766418\n",
      "7     1.494828\n",
      "8    -1.202563\n",
      "9    -1.767017\n",
      "10   -1.630882\n",
      "11    0.132427\n",
      "12   -1.645991\n",
      "13    0.961100\n",
      "14   -0.606630\n",
      "dtype: float64\n",
      "\n",
      "Autocorrelations of the said series:\n",
      "[1.0, -0.015394955697452625, 0.010052401552315921, 0.1298900872766288, -0.30306602133008986, -0.5734743751096916, -0.06520925671870077, -0.12717465672155318, -0.17873219792052908, 0.8187049960907322, 0.1644875200316644, -0.10992322001505445, 0.676242086842873, -1.0, nan]\n"
     ]
    }
   ],
   "source": [
    "ser = pd.Series(np.random.randn(15))\n",
    "autocorrelations = [ser.autocorr(lag) for lag in range(len(ser))]\n",
    "\n",
    "print(\"Original series:\")\n",
    "print(ser)\n",
    "print(\"\\nAutocorrelations of the said series:\")\n",
    "print(autocorrelations)"
   ]
  },
  {
   "cell_type": "markdown",
   "id": "52589cb6",
   "metadata": {},
   "source": [
    "35. Write a Pandas program to create a TimeSeries to display all the Sundays of given year."
   ]
  },
  {
   "cell_type": "code",
   "execution_count": 166,
   "id": "fba0596e",
   "metadata": {},
   "outputs": [
    {
     "name": "stdout",
     "output_type": "stream",
     "text": [
      "All Sundays of 2020:\n",
      "0    2020-01-05\n",
      "1    2020-01-12\n",
      "2    2020-01-19\n",
      "3    2020-01-26\n",
      "4    2020-02-02\n",
      "5    2020-02-09\n",
      "6    2020-02-16\n",
      "7    2020-02-23\n",
      "8    2020-03-01\n",
      "9    2020-03-08\n",
      "10   2020-03-15\n",
      "11   2020-03-22\n",
      "12   2020-03-29\n",
      "13   2020-04-05\n",
      "14   2020-04-12\n",
      "15   2020-04-19\n",
      "16   2020-04-26\n",
      "17   2020-05-03\n",
      "18   2020-05-10\n",
      "19   2020-05-17\n",
      "20   2020-05-24\n",
      "21   2020-05-31\n",
      "22   2020-06-07\n",
      "23   2020-06-14\n",
      "24   2020-06-21\n",
      "25   2020-06-28\n",
      "26   2020-07-05\n",
      "27   2020-07-12\n",
      "28   2020-07-19\n",
      "29   2020-07-26\n",
      "30   2020-08-02\n",
      "31   2020-08-09\n",
      "32   2020-08-16\n",
      "33   2020-08-23\n",
      "34   2020-08-30\n",
      "35   2020-09-06\n",
      "36   2020-09-13\n",
      "37   2020-09-20\n",
      "38   2020-09-27\n",
      "39   2020-10-04\n",
      "40   2020-10-11\n",
      "41   2020-10-18\n",
      "42   2020-10-25\n",
      "43   2020-11-01\n",
      "44   2020-11-08\n",
      "45   2020-11-15\n",
      "46   2020-11-22\n",
      "47   2020-11-29\n",
      "48   2020-12-06\n",
      "49   2020-12-13\n",
      "50   2020-12-20\n",
      "51   2020-12-27\n",
      "dtype: datetime64[ns]\n"
     ]
    }
   ],
   "source": [
    "year = 2020\n",
    "sundays = pd.date_range(start=f'{year}-01-01', end=f'{year}-12-31', freq='W-SUN')\n",
    "sun_ser=pd.Series(sundays)\n",
    "print(f\"All Sundays of {year}:\")\n",
    "print(sun_ser)"
   ]
  },
  {
   "cell_type": "markdown",
   "id": "fb2b3c21",
   "metadata": {},
   "source": [
    "36. Write a Pandas program to convert given series into a dataframe with its index as another column on the dataframe."
   ]
  },
  {
   "cell_type": "code",
   "execution_count": 170,
   "id": "47a6f651",
   "metadata": {},
   "outputs": [
    {
     "name": "stdout",
     "output_type": "stream",
     "text": [
      "Sample Output:\n"
     ]
    },
    {
     "data": {
      "text/html": [
       "<div>\n",
       "<style scoped>\n",
       "    .dataframe tbody tr th:only-of-type {\n",
       "        vertical-align: middle;\n",
       "    }\n",
       "\n",
       "    .dataframe tbody tr th {\n",
       "        vertical-align: top;\n",
       "    }\n",
       "\n",
       "    .dataframe thead th {\n",
       "        text-align: right;\n",
       "    }\n",
       "</style>\n",
       "<table border=\"1\" class=\"dataframe\">\n",
       "  <thead>\n",
       "    <tr style=\"text-align: right;\">\n",
       "      <th></th>\n",
       "      <th>index</th>\n",
       "      <th>0</th>\n",
       "    </tr>\n",
       "  </thead>\n",
       "  <tbody>\n",
       "    <tr>\n",
       "      <th>0</th>\n",
       "      <td>A</td>\n",
       "      <td>0</td>\n",
       "    </tr>\n",
       "    <tr>\n",
       "      <th>1</th>\n",
       "      <td>B</td>\n",
       "      <td>1</td>\n",
       "    </tr>\n",
       "    <tr>\n",
       "      <th>2</th>\n",
       "      <td>C</td>\n",
       "      <td>2</td>\n",
       "    </tr>\n",
       "    <tr>\n",
       "      <th>3</th>\n",
       "      <td>D</td>\n",
       "      <td>3</td>\n",
       "    </tr>\n",
       "    <tr>\n",
       "      <th>4</th>\n",
       "      <td>E</td>\n",
       "      <td>4</td>\n",
       "    </tr>\n",
       "  </tbody>\n",
       "</table>\n",
       "</div>"
      ],
      "text/plain": [
       "  index  0\n",
       "0     A  0\n",
       "1     B  1\n",
       "2     C  2\n",
       "3     D  3\n",
       "4     E  4"
      ]
     },
     "execution_count": 170,
     "metadata": {},
     "output_type": "execute_result"
    }
   ],
   "source": [
    "ser1=pd.Series([0,1,2,3,4],index=list(\"ABCDE\"))\n",
    "df=pd.DataFrame(ser1)\n",
    "print(\"Sample Output:\")\n",
    "df.reset_index()"
   ]
  },
  {
   "cell_type": "markdown",
   "id": "cb6c140b",
   "metadata": {},
   "source": [
    "37. Write a Pandas program to stack two given series vertically and horizontally."
   ]
  },
  {
   "cell_type": "code",
   "execution_count": 182,
   "id": "547e098a",
   "metadata": {},
   "outputs": [
    {
     "name": "stdout",
     "output_type": "stream",
     "text": [
      "Original Series: 0    0\n",
      "1    1\n",
      "2    2\n",
      "3    3\n",
      "4    4\n",
      "5    5\n",
      "6    6\n",
      "7    7\n",
      "8    8\n",
      "9    9\n",
      "dtype: int64\n",
      "0    a\n",
      "1    p\n",
      "2    q\n",
      "3    r\n",
      "4    s\n",
      "5    v\n",
      "6    w\n",
      "7    x\n",
      "8    y\n",
      "9    z\n",
      "dtype: object\n",
      "Stack two given series vertically and horizontally:\n",
      "    0  1\n",
      "0  0  a\n",
      "1  1  p\n",
      "2  2  q\n",
      "3  3  r\n",
      "4  4  s\n",
      "5  5  v\n",
      "6  6  w\n",
      "7  7  x\n",
      "8  8  y\n",
      "9  9  z\n"
     ]
    }
   ],
   "source": [
    "ser1 = pd.Series([0,1, 2, 3, 4, 5, 6, 7, 8, 9])\n",
    "ser2 = pd.Series(list(\"apqrsvwxyz\"))\n",
    "print(\"Original Series:\",ser1)\n",
    "print(ser2)\n",
    "print('Stack two given series vertically and horizontally:\\n',pd.concat([ser1,ser2],axis=1))"
   ]
  },
  {
   "cell_type": "markdown",
   "id": "c2981fb1",
   "metadata": {},
   "source": [
    "38. Write a Pandas program to check the equality of two given series."
   ]
  },
  {
   "cell_type": "code",
   "execution_count": 186,
   "id": "0341046f",
   "metadata": {},
   "outputs": [
    {
     "name": "stdout",
     "output_type": "stream",
     "text": [
      "Original Series: 0    0\n",
      "1    1\n",
      "2    2\n",
      "3    3\n",
      "4    4\n",
      "5    5\n",
      "6    6\n",
      "7    7\n",
      "8    8\n",
      "9    9\n",
      "dtype: int64\n",
      "0    0\n",
      "1    1\n",
      "2    2\n",
      "3    3\n",
      "4    4\n",
      "5    5\n",
      "6    6\n",
      "7    7\n",
      "8    8\n",
      "9    9\n",
      "dtype: int64\n",
      "Check 2 series are equal or not?\n",
      "0    True\n",
      "1    True\n",
      "2    True\n",
      "3    True\n",
      "4    True\n",
      "5    True\n",
      "6    True\n",
      "7    True\n",
      "8    True\n",
      "9    True\n",
      "dtype: bool\n"
     ]
    }
   ],
   "source": [
    "ser1=pd.Series([0,1,2,3,4,5,6,7,8,9])\n",
    "ser2=pd.Series([0,1,2,3,4,5,6,7,8,9])\n",
    "print(\"Original Series:\",ser1)\n",
    "print(ser2)\n",
    "print(\"Check 2 series are equal or not?\")\n",
    "out=ser1==ser2\n",
    "print(out)"
   ]
  },
  {
   "cell_type": "markdown",
   "id": "085e972a",
   "metadata": {},
   "source": [
    "39. Write a Pandas program to find the index of the first occurrence of the smallest and largest value of a given series."
   ]
  },
  {
   "cell_type": "code",
   "execution_count": 187,
   "id": "72ccd36c",
   "metadata": {},
   "outputs": [
    {
     "name": "stdout",
     "output_type": "stream",
     "text": [
      "Original Series:\n",
      " 0    0\n",
      "1    1\n",
      "2    2\n",
      "3    3\n",
      "4    4\n",
      "5    5\n",
      "6    6\n",
      "7    7\n",
      "8    8\n",
      "9    9\n",
      "dtype: int64\n",
      "Index of the first occurrence of the smallest and largest value of the said series: 0 9\n"
     ]
    }
   ],
   "source": [
    "ser1=pd.Series([0,1,2,3,4,5,6,7,8,9])\n",
    "print(\"Original Series:\\n\",ser1)\n",
    "print(\"Index of the first occurrence of the smallest and largest value of the said series:\",ser1.idxmin(),ser1.idxmax())\n"
   ]
  },
  {
   "cell_type": "markdown",
   "id": "0cebdc5c",
   "metadata": {},
   "source": [
    "40. Write a Pandas program to check inequality over the index axis of a given dataframe\n",
    "and a given series."
   ]
  },
  {
   "cell_type": "code",
   "execution_count": 191,
   "id": "cfeb6924",
   "metadata": {},
   "outputs": [
    {
     "name": "stdout",
     "output_type": "stream",
     "text": [
      "Original DataFrame:\n",
      "       W     X   Y   Z\n",
      "0  68.0  78.0  84  86\n",
      "1  75.0  75.0  94  97\n",
      "2  86.0   NaN  89  96\n",
      "3  80.0  80.0  86  72\n",
      "4   NaN  86.0  86  83\n",
      "Original Series:\n",
      " 0    68.0\n",
      "1    75.0\n",
      "2    86.0\n",
      "3    80.0\n",
      "4     NaN\n",
      "dtype: float64\n",
      "Check for inequality of the said series & dataframe:\n",
      "        W      X     Y     Z\n",
      "0  False   True  True  True\n",
      "1  False  False  True  True\n",
      "2  False   True  True  True\n",
      "3  False  False  True  True\n",
      "4   True   True  True  True\n"
     ]
    }
   ],
   "source": [
    "data={\"W\":[68.0,75.0,86.0,80.0,np.nan],\n",
    "      \"X\":[78.0,75.0,np.nan,80.0,86.0],\n",
    "      \"Y\":[84,94,89,86,86],\n",
    "      \"Z\":[86,97,96,72,83]}\n",
    "df=pd.DataFrame(data)\n",
    "series=pd.Series([68.0,75.0,86.0,80.0,np.nan])\n",
    "\n",
    "result_df=df.ne(series,axis=0)\n",
    "print(\"Original DataFrame:\\n\",df)\n",
    "print(\"Original Series:\\n\",series)\n",
    "print(\"Check for inequality of the said series & dataframe:\\n\",result_df)"
   ]
  },
  {
   "cell_type": "code",
   "execution_count": null,
   "id": "1ec22e78",
   "metadata": {},
   "outputs": [],
   "source": []
  }
 ],
 "metadata": {
  "kernelspec": {
   "display_name": "base",
   "language": "python",
   "name": "python3"
  },
  "language_info": {
   "codemirror_mode": {
    "name": "ipython",
    "version": 3
   },
   "file_extension": ".py",
   "mimetype": "text/x-python",
   "name": "python",
   "nbconvert_exporter": "python",
   "pygments_lexer": "ipython3",
   "version": "3.8.5"
  }
 },
 "nbformat": 4,
 "nbformat_minor": 5
}
