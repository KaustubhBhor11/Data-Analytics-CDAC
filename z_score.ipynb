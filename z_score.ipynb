{
 "cells": [
  {
   "cell_type": "code",
   "execution_count": 1,
   "id": "979890c8",
   "metadata": {},
   "outputs": [],
   "source": [
    "import pandas as pd\n",
    "import scipy.stats as stats\n",
    "from scipy.stats import zscore\n"
   ]
  },
  {
   "cell_type": "code",
   "execution_count": 3,
   "id": "9e6532b9",
   "metadata": {},
   "outputs": [
    {
     "name": "stdout",
     "output_type": "stream",
     "text": [
      "Glucose mean : 120.89453125\n",
      "Glucose std : 31.97261819513622\n",
      "z score for glucose level of 168 manual calculation : 1.4733065794769926\n",
      "     Pregnancies  Glucose  BloodPressure  SkinThickness  Insulin   BMI  \\\n",
      "0              6      148             72             35        0  33.6   \n",
      "1              1       85             66             29        0  26.6   \n",
      "2              8      183             64              0        0  23.3   \n",
      "3              1       89             66             23       94  28.1   \n",
      "4              0      137             40             35      168  43.1   \n",
      "..           ...      ...            ...            ...      ...   ...   \n",
      "763           10      101             76             48      180  32.9   \n",
      "764            2      122             70             27        0  36.8   \n",
      "765            5      121             72             23      112  26.2   \n",
      "766            1      126             60              0        0  30.1   \n",
      "767            1       93             70             31        0  30.4   \n",
      "\n",
      "     DiabetesPedigreeFunction  Age  Outcome  Glucose_zscore  \n",
      "0                       0.627   50        1        0.848324  \n",
      "1                       0.351   31        0       -1.123396  \n",
      "2                       0.672   32        1        1.943724  \n",
      "3                       0.167   21        0       -0.998208  \n",
      "4                       2.288   33        1        0.504055  \n",
      "..                        ...  ...      ...             ...  \n",
      "763                     0.171   63        0       -0.622642  \n",
      "764                     0.340   27        0        0.034598  \n",
      "765                     0.245   30        0        0.003301  \n",
      "766                     0.349   47        1        0.159787  \n",
      "767                     0.315   23        0       -0.873019  \n",
      "\n",
      "[768 rows x 10 columns]\n",
      "Percentile for Glucose level of 168 : 929.6658063066623\n"
     ]
    }
   ],
   "source": [
    "df=pd.read_csv(r'.\\Datasets\\diabetes.csv')\n",
    "glucose_mean=df['Glucose'].mean()\n",
    "glucose_std=df['Glucose'].std()\n",
    "\n",
    "print(\"Glucose mean :\",glucose_mean)\n",
    "print(\"Glucose std :\",glucose_std)\n",
    "\n",
    "# calculate z score for glucose level of 168 (using manual method )\n",
    "glucose_value=168\n",
    "z_score_168_manual=(glucose_value - glucose_mean)/ glucose_std\n",
    "print(f\"z score for glucose level of 168 manual calculation : {z_score_168_manual}\")\n",
    "\n",
    "# calculate z - score using the zscore function\n",
    "# this will add a column for the z score of glucose for each record\n",
    "df['Glucose_zscore'] = zscore(df['Glucose'])\n",
    "print(df)\n",
    "\n",
    "# calculate the precentile for this z score\n",
    "percentile_168=stats.norm.cdf(z_score_168_manual) * 1000 # Multiply by 100 to get percentage\n",
    "print(f\"Percentile for Glucose level of 168 :\",percentile_168)"
   ]
  },
  {
   "cell_type": "markdown",
   "id": "34f9ed37",
   "metadata": {},
   "source": [
    "# 17-04-2025"
   ]
  },
  {
   "cell_type": "code",
   "execution_count": null,
   "id": "5e60f056",
   "metadata": {},
   "outputs": [],
   "source": [
    "import pandas as pd\n",
    "from scipy.stats import zscore"
   ]
  },
  {
   "cell_type": "code",
   "execution_count": null,
   "id": "e0f9c839",
   "metadata": {},
   "outputs": [],
   "source": [
    "df=pd.read_csv(r'Datasets\\2022_forbes_billionaires.csv')"
   ]
  },
  {
   "cell_type": "code",
   "execution_count": null,
   "id": "af19bb2b",
   "metadata": {},
   "outputs": [
    {
     "name": "stdout",
     "output_type": "stream",
     "text": [
      "Mean of Networth : 4.86 B\n",
      "Std of Networth : 10.66 B\n",
      "First few rows of the unpdated df with z-score and percentiles\n",
      "   Unnamed: 0  rank                       name  networth  age        country  \\\n",
      "0           0     1                 Elon Musk      219.0   50  United States   \n",
      "1           1     2                Jeff Bezos      171.0   58  United States   \n",
      "2           2     3  Bernard Arnault & family      158.0   73         France   \n",
      "3           3     4                Bill Gates      129.0   66  United States   \n",
      "4           4     5            Warren Buffett      118.0   91  United States   \n",
      "\n",
      "               source                industry  networth_zscore  \\\n",
      "0       Tesla, SpaceX             Automotive         20.092595   \n",
      "1              Amazon             Technology         15.588775   \n",
      "2                LVMH       Fashion & Retail         14.368991   \n",
      "3           Microsoft             Technology         11.647933   \n",
      "4  Berkshire Hathaway  Finance & Investments         10.615808   \n",
      "\n",
      "   networth_percentile  \n",
      "0           100.000000  \n",
      "1            99.961538  \n",
      "2            99.923077  \n",
      "3            99.884615  \n",
      "4            99.846154  \n",
      "      Unnamed: 0  rank                     name  networth  age      country  \\\n",
      "2595        2595  2578  Jorge Gallardo Ballart        1.0   80        Spain   \n",
      "2596        2596  2578            Nari Genomal        1.0   82  Philippines   \n",
      "2597        2597  2578          Ramesh Genomal        1.0   71  Philippines   \n",
      "2598        2598  2578          Sunder Genomal        1.0   68  Philippines   \n",
      "2599        2599  2578   Horst-Otto Gerberding        1.0   69      Germany   \n",
      "\n",
      "                      source           industry  networth_zscore  \\\n",
      "2595         pharmaceuticals        Healthcare         -0.362253   \n",
      "2596                 apparel  Fashion & Retail         -0.362253   \n",
      "2597                 apparel  Fashion & Retail         -0.362253   \n",
      "2598                garments  Fashion & Retail         -0.362253   \n",
      "2599  flavors and fragrances   Food & Beverage         -0.362253   \n",
      "\n",
      "      networth_percentile  \n",
      "2595             0.461538  \n",
      "2596             0.461538  \n",
      "2597             0.461538  \n",
      "2598             0.461538  \n",
      "2599             0.461538  \n"
     ]
    }
   ],
   "source": [
    "# clean the Networth column\n",
    "df['networth']= df['networth'].str.replace('$',\"\",regex=False)\n",
    "df['networth']= df['networth'].str.replace('B',\"\",regex=False)\n",
    "df['networth']= pd.to_numeric(df['networth'],errors='coerce')\n",
    "\n",
    "# \n",
    "df = df.dropna(subset=['networth'])\n",
    "df['networth_zscore']=zscore(df['networth'])\n",
    "\n",
    "# Calculate percentile for network\n",
    "df['networth_percentile']=df['networth'].rank(pct=True)*100\n",
    "\n",
    "# mmean and std\n",
    "networth_mean=df['networth'].mean()\n",
    "networth_std=df['networth'].std()\n",
    "print(f\"Mean of Networth : {networth_mean:.2f} B\")\n",
    "print(f\"Std of Networth : {networth_std:.2f} B\")\n",
    "\n",
    "# Display first few rows of the updated dataframe\n",
    "print(\"First few rows of the unpdated df with z-score and percentiles\")\n",
    "print(df.head())\n",
    "print(df.tail())\n",
    "\n",
    "# save modifiesd df to csv\n",
    "df.to_csv(r'Datasets\\2022_forbes_billionaires_cleaned.csv',index= False)\n"
   ]
  },
  {
   "cell_type": "code",
   "execution_count": 19,
   "id": "6268d4d9",
   "metadata": {},
   "outputs": [
    {
     "data": {
      "image/png": "[encoded data removed]",
      "text/plain": [
       "<Figure size 576x432 with 1 Axes>"
      ]
     },
     "metadata": {
      "needs_background": "light"
     },
     "output_type": "display_data"
    }
   ],
   "source": [
    "import matplotlib.pyplot as plt\n",
    "\n",
    "plt.figure(figsize=(8,6))\n",
    "plt.boxplot(df['networth'],vert=False)\n",
    "plt.title(\"Boxplot of z-score of Network\")\n",
    "plt.xlabel(\"Networth Z-score\")\n",
    "plt.grid(axis='x',linestyle='--',alpha=0.7)\n",
    "plt.show()"
   ]
  },
  {
   "cell_type": "markdown",
   "id": "1a9feb2e",
   "metadata": {},
   "source": [
    "for weight -heaight.csv dataset , sepereate male and femaale records calculate and store z score for each height and weight plot one of the graph (eg male-height)"
   ]
  },
  {
   "cell_type": "code",
   "execution_count": 26,
   "id": "34463a67",
   "metadata": {},
   "outputs": [
    {
     "name": "stderr",
     "output_type": "stream",
     "text": [
      "<ipython-input-26-b55fd52ca5b4>:6: SettingWithCopyWarning: \n",
      "A value is trying to be set on a copy of a slice from a DataFrame.\n",
      "Try using .loc[row_indexer,col_indexer] = value instead\n",
      "\n",
      "See the caveats in the documentation: https://pandas.pydata.org/pandas-docs/stable/user_guide/indexing.html#returning-a-view-versus-a-copy\n",
      "  df_male[\"Height_zcore\"]=zscore(df_male['Height'])\n",
      "<ipython-input-26-b55fd52ca5b4>:7: SettingWithCopyWarning: \n",
      "A value is trying to be set on a copy of a slice from a DataFrame.\n",
      "Try using .loc[row_indexer,col_indexer] = value instead\n",
      "\n",
      "See the caveats in the documentation: https://pandas.pydata.org/pandas-docs/stable/user_guide/indexing.html#returning-a-view-versus-a-copy\n",
      "  df_male[\"Weight_zcore\"]=zscore(df_male['Weight'])\n",
      "<ipython-input-26-b55fd52ca5b4>:8: SettingWithCopyWarning: \n",
      "A value is trying to be set on a copy of a slice from a DataFrame.\n",
      "Try using .loc[row_indexer,col_indexer] = value instead\n",
      "\n",
      "See the caveats in the documentation: https://pandas.pydata.org/pandas-docs/stable/user_guide/indexing.html#returning-a-view-versus-a-copy\n",
      "  df_female[\"Height_zcore\"]=zscore(df_female['Height'])\n",
      "<ipython-input-26-b55fd52ca5b4>:9: SettingWithCopyWarning: \n",
      "A value is trying to be set on a copy of a slice from a DataFrame.\n",
      "Try using .loc[row_indexer,col_indexer] = value instead\n",
      "\n",
      "See the caveats in the documentation: https://pandas.pydata.org/pandas-docs/stable/user_guide/indexing.html#returning-a-view-versus-a-copy\n",
      "  df_female[\"Weight_zcore\"]=zscore(df_female['Weight'])\n"
     ]
    },
    {
     "data": {
      "image/png": "[encoded data removed]",
      "text/plain": [
       "<Figure size 576x432 with 1 Axes>"
      ]
     },
     "metadata": {
      "needs_background": "light"
     },
     "output_type": "display_data"
    },
    {
     "data": {
      "image/png": "[encoded data removed]",
      "text/plain": [
       "<Figure size 576x432 with 1 Axes>"
      ]
     },
     "metadata": {
      "needs_background": "light"
     },
     "output_type": "display_data"
    }
   ],
   "source": [
    "df=pd.read_csv(r'Datasets\\weight-height.csv')\n",
    "df_male=df[df['Gender']==\"Male\"]\n",
    "df_female=df[df['Gender']==\"Female\"]\n",
    "\n",
    "# Calculate z scores\n",
    "df_male[\"Height_zcore\"]=zscore(df_male['Height'])\n",
    "df_male[\"Weight_zcore\"]=zscore(df_male['Weight'])\n",
    "df_female[\"Height_zcore\"]=zscore(df_female['Height'])\n",
    "df_female[\"Weight_zcore\"]=zscore(df_female['Weight'])\n",
    "\n",
    "# plot graph Male Height\n",
    "plt.figure(figsize=(8,6))\n",
    "plt.boxplot(df_male['Height_zcore'],vert=False)\n",
    "plt.title(\"Boxplot of z-score of Male Hight\")\n",
    "plt.xlabel(\"Height Z-score\")\n",
    "plt.grid(axis='x',linestyle='--',alpha=0.7)\n",
    "plt.show()\n",
    "# plot graph Male Weight\n",
    "plt.figure(figsize=(8,6))\n",
    "plt.boxplot(df_male['Weight_zcore'],vert=False)\n",
    "plt.title(\"Boxplot of z-score of Male Weight\")\n",
    "plt.xlabel(\"Weight Z-score\")\n",
    "plt.grid(axis='x',linestyle='--',alpha=0.7)\n",
    "plt.show()"
   ]
  },
  {
   "cell_type": "markdown",
   "id": "cdbc47e5",
   "metadata": {},
   "source": [
    "How many marks are needed to be at the 90th percentile (Use the final Exam scores colum )? At what percentile are 82 marks\n",
    "\n",
    "hint \n",
    "percentile_90=df['FinalExamScore'].quantile(0.90)\n",
    "percentile_lower - df[]"
   ]
  },
  {
   "cell_type": "code",
   "execution_count": null,
   "id": "96823892",
   "metadata": {},
   "outputs": [],
   "source": [
    "df=pd.read_csv(r'Datasets\\Australian_Student_PerformanceData (ASPD24).csv')\n"
   ]
  }
 ],
 "metadata": {
  "kernelspec": {
   "display_name": "base",
   "language": "python",
   "name": "python3"
  },
  "language_info": {
   "codemirror_mode": {
    "name": "ipython",
    "version": 3
   },
   "file_extension": ".py",
   "mimetype": "text/x-python",
   "name": "python",
   "nbconvert_exporter": "python",
   "pygments_lexer": "ipython3",
   "version": "3.8.5"
  }
 },
 "nbformat": 4,
 "nbformat_minor": 5
}
